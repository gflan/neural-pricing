{
 "cells": [
  {
   "cell_type": "markdown",
   "metadata": {},
   "source": [
    "# Neural Pricing\n",
    "\n",
    "Codigo POC de implementación del paper de [DeLis [2021]](https://arxiv.org/pdf/2105.13320.pdf).\n",
    "\n",
    "---\n",
    "\n",
    "Extensiones de modelos de tiempo continuo en deep learning recientemente abarcaron el caso de las SDEs proponiendo las llamadas 'neural SDEs': ecuaciones diferenciales estocasticas donde el drift y la difusión son en sí redes neuronales a entrenar.\n",
    "\n",
    "Este paper propone ser un primer approach al uso de neural SDEs para valuación de opciones. Más allá de la suposición de que el proceso del activo subyacente es un proceso de Ito que puede ser aproximado por una red neuronal, el resto se desprende de teoria clásica de pricing en martingalas y medidas de riesgo neutral. \n",
    "\n",
    "El entrenamiento de la SDE (y la biblioteca [torchsde](https://github.com/google-research/torchsde) que lo permite) están principalmente basados en [Li et. al [2020]](https://arxiv.org/pdf/2001.01328.pdf) y [Kidger et. al [2021]](https://arxiv.org/pdf/2102.03657.pdf). De este último surge la idea de un modelo generativo basado en W-GANS, modelos adversariales entre una red generativa y otra discriminativa usando la distancia de Wasserstein. El paper mantiene la intención del modelo generativo con esa métrica pero no implementa la arquitectura adversarial sino una simple de un solo modelo. \n",
    "\n",
    "Adicionalmente, conjetura que el error del pricing de la SDE contra el target está acotado por la loss function, formalizando que un entrenamiento que asintóticamente la minimice hará tender el precio de la opción sobre el activo generado al precio de la opción sobre el activo 'target'."
   ]
  },
  {
   "cell_type": "code",
   "execution_count": 1,
   "metadata": {
    "colab": {
     "base_uri": "https://localhost:8080/"
    },
    "id": "N46EgiaRIuVy",
    "outputId": "855c6690-b626-48a2-a114-6b6b6c2755f6"
   },
   "outputs": [
    {
     "name": "stdout",
     "output_type": "stream",
     "text": [
      "Requirement already satisfied: torchsde in /home/gflan/.cache/pypoetry/virtualenvs/ancufi--w791oWn-py3.8/lib/python3.8/site-packages (0.2.5)\n",
      "Requirement already satisfied: numpy>=1.19.* in /home/gflan/.cache/pypoetry/virtualenvs/ancufi--w791oWn-py3.8/lib/python3.8/site-packages (from torchsde) (1.23.1)\n",
      "Requirement already satisfied: torch>=1.6.0 in /home/gflan/.cache/pypoetry/virtualenvs/ancufi--w791oWn-py3.8/lib/python3.8/site-packages (from torchsde) (1.12.0)\n",
      "Requirement already satisfied: trampoline>=0.1.2 in /home/gflan/.cache/pypoetry/virtualenvs/ancufi--w791oWn-py3.8/lib/python3.8/site-packages (from torchsde) (0.1.2)\n",
      "Requirement already satisfied: boltons>=20.2.1 in /home/gflan/.cache/pypoetry/virtualenvs/ancufi--w791oWn-py3.8/lib/python3.8/site-packages (from torchsde) (21.0.0)\n",
      "Requirement already satisfied: scipy>=1.5 in /home/gflan/.cache/pypoetry/virtualenvs/ancufi--w791oWn-py3.8/lib/python3.8/site-packages (from torchsde) (1.6.1)\n",
      "Requirement already satisfied: typing-extensions in /home/gflan/.cache/pypoetry/virtualenvs/ancufi--w791oWn-py3.8/lib/python3.8/site-packages (from torch>=1.6.0->torchsde) (4.3.0)\n",
      "\n",
      "\u001b[1m[\u001b[0m\u001b[34;49mnotice\u001b[0m\u001b[1;39;49m]\u001b[0m\u001b[39;49m A new release of pip available: \u001b[0m\u001b[31;49m22.1.2\u001b[0m\u001b[39;49m -> \u001b[0m\u001b[32;49m22.2.1\u001b[0m\n",
      "\u001b[1m[\u001b[0m\u001b[34;49mnotice\u001b[0m\u001b[1;39;49m]\u001b[0m\u001b[39;49m To update, run: \u001b[0m\u001b[32;49mpip install --upgrade pip\u001b[0m\n"
     ]
    }
   ],
   "source": [
    "!poetry run python -m pip install torchsde"
   ]
  },
  {
   "cell_type": "code",
   "execution_count": 2,
   "metadata": {},
   "outputs": [
    {
     "name": "stdout",
     "output_type": "stream",
     "text": [
      "pip 22.1.2 from /home/gflan/.cache/pypoetry/virtualenvs/ancufi--w791oWn-py3.8/lib/python3.8/site-packages/pip (python 3.8)\r\n"
     ]
    }
   ],
   "source": [
    "!poetry run python -m pip -V"
   ]
  },
  {
   "cell_type": "code",
   "execution_count": 3,
   "metadata": {
    "id": "bSN8wJPZIVbg"
   },
   "outputs": [],
   "source": [
    "import torch\n",
    "from torch import nn\n",
    "import torchsde\n",
    "import numpy as np\n",
    "import pandas as pd\n",
    "import os\n",
    "import sys\n",
    "import tqdm"
   ]
  },
  {
   "cell_type": "code",
   "execution_count": 205,
   "metadata": {
    "colab": {
     "base_uri": "https://localhost:8080/"
    },
    "id": "OMBtdiaYz2rv",
    "outputId": "b9090f12-6122-42eb-a079-54fc2e1bdc86"
   },
   "outputs": [],
   "source": [
    "# cargar todo en GPU de ser posible\n",
    "is_cuda = torch.cuda.is_available()\n",
    "device = 'cuda' if is_cuda else 'cpu'\n",
    "if not is_cuda:\n",
    "    print(\"Warning: CUDA not available; falling back to CPU but this is likely to be very slow.\")"
   ]
  },
  {
   "cell_type": "markdown",
   "metadata": {},
   "source": [
    "## Modelos"
   ]
  },
  {
   "cell_type": "markdown",
   "metadata": {
    "id": "XfLIz21JVll3"
   },
   "source": [
    "Generamos la clase de Multilayer Perceptron para generalizar y usar más adelante. \n",
    "\n",
    "* `in_size: int` variables de entrada\n",
    "* `out_size: int` variables de salida\n",
    "* `mlp_size: int` es la cantidad de nodos por capa\n",
    "* `num_layers: int` la cantidad de capas internas del modelo\n",
    "* `tanh: bool` decide entre tangente hiperbolica o leaky ReLu como función de activación"
   ]
  },
  {
   "cell_type": "code",
   "execution_count": 206,
   "metadata": {},
   "outputs": [],
   "source": [
    "class MLP(torch.nn.Module):\n",
    "    def __init__(self, in_size, out_size, mlp_size, num_layers, tanh):\n",
    "        super().__init__()        \n",
    "        \n",
    "        activation = lambda : torch.nn.Tanh() if tanh else torch.nn.LeakyReLU(0.01) \n",
    "        model = [\n",
    "            torch.nn.Linear(in_size, mlp_size),\n",
    "            activation()\n",
    "        ]\n",
    "        for _ in range(num_layers - 1):\n",
    "            model.append(torch.nn.Linear(mlp_size, mlp_size))\n",
    "            model.append(activation())\n",
    "        model.append(torch.nn.Linear(mlp_size, out_size))\n",
    "\n",
    "        self._model = torch.nn.Sequential(*model)\n",
    "\n",
    "    def forward(self, x):\n",
    "        return self._model(x)"
   ]
  },
  {
   "cell_type": "markdown",
   "metadata": {},
   "source": [
    "Neural SDE: SDE con redes neuronales haciendo de procesos de drift y difusión.\n",
    "\n",
    "Entrenamos el modelo general de una SDE con $\\mu_{\\theta}$ y $\\sigma_{\\phi}$ los procesos de drift y difusión parametrizados por $\\theta$ y $\\sigma$ representando los pesos 'aprendibles' en entrenamiento.\n",
    "\n",
    "$$ dS_t = \\underbrace{\\mu_{\\theta}(t, S_t)}_{\\text{drift}}dt + \\underbrace{\\sigma_{\\phi}(t, S_t)}_{\\text{difusión}}dB_t $$"
   ]
  },
  {
   "cell_type": "code",
   "execution_count": 207,
   "metadata": {
    "id": "5_03s6FWIzLP"
   },
   "outputs": [],
   "source": [
    "class SDE(torch.nn.Module):\n",
    "    noise_type = 'diagonal'\n",
    "    sde_type = 'ito'\n",
    "\n",
    "    def __init__(self, state_size=1, batch_size=32, mlp_size=100, num_layers=3, tanh=False):\n",
    "        super().__init__()\n",
    "        \n",
    "        in_size = 2 * state_size # S(t) y t\n",
    "        out_size = state_size # drift o difusion final\n",
    "        mu_sigma_args = dict(\n",
    "            in_size=in_size,\n",
    "            out_size=out_size,\n",
    "            mlp_size=mlp_size, \n",
    "            num_layers=num_layers,\n",
    "            tanh=tanh\n",
    "        )\n",
    "        self.mu = MLP(**mu_sigma_args)\n",
    "        self.sigma = MLP(**mu_sigma_args)\n",
    "\n",
    "    # Drift\n",
    "    def f(self, t, y):\n",
    "        # forward prop de la f\n",
    "        # armar un tensor de batch_size componentes con el tiempo t\n",
    "        batch_t = torch.full((batch_size,1), t.item()).to(device)\n",
    "        # mu([\n",
    "        #     (y_0, t), \n",
    "        #     (y_1, t),\n",
    "        #     .. \n",
    "        #     (y_n, t) <--- n = batch_size\n",
    "        # ]) \n",
    "        return self.mu(torch.cat((y, batch_t), dim=1))  # shape (batch_size, state_size)\n",
    "\n",
    "    # Diffusion\n",
    "    def g(self, t, y):\n",
    "        # idem mu\n",
    "        batch_t = torch.full((batch_size,1), t.item()).to(device)\n",
    "        return self.sigma(torch.cat((y, batch_t), dim=1))\n",
    "\n",
    "# sde = SDE().to(device)"
   ]
  },
  {
   "cell_type": "markdown",
   "metadata": {
    "id": "tg9PLTdcTjoZ"
   },
   "source": [
    "Browniano Geométrico como benchmark conocido.\n",
    "\n",
    "$$ dR_t = \\mu R_t \\ dt + \\sigma \\ R_t \\ dB_t $$"
   ]
  },
  {
   "cell_type": "code",
   "execution_count": 208,
   "metadata": {
    "id": "TbdcynUYHGkQ"
   },
   "outputs": [],
   "source": [
    "class GBM_SDE(nn.Module):\n",
    "\n",
    "    def __init__(self, mu, sigma):\n",
    "        super().__init__()\n",
    "        self.noise_type=\"diagonal\"\n",
    "        self.sde_type = \"ito\"\n",
    "\n",
    "        self.mu = mu\n",
    "        self.sigma = sigma\n",
    "\n",
    "    def f(self, t, y):\n",
    "        return self.mu * y\n",
    "\n",
    "    def g(self, t, y):\n",
    "        return self.sigma * y"
   ]
  },
  {
   "cell_type": "markdown",
   "metadata": {
    "id": "-ZeAy7nETak6"
   },
   "source": [
    "## Earth Mover's (Wasserstein) Distance"
   ]
  },
  {
   "cell_type": "markdown",
   "metadata": {},
   "source": [
    "Nuestra loss function va a ser la distancia Wasserstein $d=1$ dada por Ramdas et al. [2015]\n",
    "\n",
    "$$ W_1 = \\int_0^1 \\big|F^{-1}(z) - G^{-1}(z)\\big|\\ dz $$\n",
    "\n",
    "Con $F$ y $W$ las funciones de distribuciones acumulativas. Intuitivamente mide la distancia horizontal entre mis dos distribuciones.\n",
    "\n",
    "Implemetamos la integral en pytorch con una discretización basada en percentiles sobre nuestras distribuciones empíricas. \n",
    "\n",
    "$P$ y $Q$ consistirán de tensores con una dimensión para cada batch y otra para cada intervalo de la discretización del browniano. Percentil a percentil se restan los valores absolutos para cada estado de esta discretización por separado y se suman, generando `brownian_size` distancias entre todos el batch.\n",
    "\n",
    "$$ W_1 \\simeq \\sum_{i=1}^{N} \\big|F^{-1}(p_i) - G^{-1}(p_i)\\big|\\ \\frac{1}{N} $$\n",
    "\n",
    "$$ 0 = p_1 <\\ ..\\ < p_N = 1 $$"
   ]
  },
  {
   "cell_type": "code",
   "execution_count": 209,
   "metadata": {
    "id": "-1a-pHa-OgZR"
   },
   "outputs": [],
   "source": [
    "def emd(p, q, qtiles=11):\n",
    "    quantiles = torch.linspace(0, 1, steps=qtiles, device=device) \n",
    "    # tensor([0.0000, 0.1000, 0.2000, 0.3000, 0.4000, 0.5000, 0.6000, 0.7000, 0.8000, 0.9000, 1.0000])\n",
    "    p_q = torch.quantile(p, quantiles, dim=1, keepdim=True)\n",
    "    q_q = torch.quantile(q, quantiles, dim=1, keepdim=True)\n",
    "\n",
    "    # sumo todas las diferencias quartil a quartil \n",
    "    return torch.abs(p_q - q_q).sum(dim=0).div(qtiles)"
   ]
  },
  {
   "cell_type": "code",
   "execution_count": 210,
   "metadata": {
    "colab": {
     "base_uri": "https://localhost:8080/"
    },
    "id": "V906VPN3fdLl",
    "outputId": "cddb24a7-d9ea-4943-adf8-24b41f88361f"
   },
   "outputs": [
    {
     "name": "stdout",
     "output_type": "stream",
     "text": [
      "torch.Size([5, 300, 1])\n",
      "tensor([0.9749, 0.9497, 1.1224, 0.9805, 1.1942], device='cuda:0',\n",
      "       grad_fn=<SelectBackward0>) tensor(1.0443, device='cuda:0', grad_fn=<MeanBackward0>)\n"
     ]
    }
   ],
   "source": [
    "# Dos normales con misma varianza y un shift de una unidad de media, emd ~= 1 \n",
    "\n",
    "p = torch.normal(mean=1, std=1, size=(5,300,1), requires_grad=True, device=device)\n",
    "q = torch.normal(mean=0, std=1, size=(5,300,1), requires_grad=True, device=device)\n",
    "print(p.shape) # (cantidad de instantes, tamaño del batch, cantidad de 'estados')\n",
    "\n",
    "res = emd(p, q, qtiles=10)\n",
    "print(res[:, 0, 0], res.mean())\n",
    "del res, p, q"
   ]
  },
  {
   "cell_type": "markdown",
   "metadata": {
    "id": "WWQCMiRMZBvC"
   },
   "source": [
    "### TorchSDE"
   ]
  },
  {
   "cell_type": "markdown",
   "metadata": {},
   "source": [
    "Solvers de SDEs diferenciables que podemos usar en el entrenamiento de nuestra red.\n",
    "\n",
    "* La función `torchsde.BrownianInterval` nos va a generar sobre un `ts` (de longitud `batch_size`) trazas discretas de un browniano respetando $ W_t - W_s \\sim \\mathcal{N}(0, t-s) $ para $0 \\leq s < t$.\n",
    "\n",
    "* `torchsde.sdeint` provee soluciones numéricas aproximadas sobre estas discretizaciones, por ejemplo mediante _Euler-Maruyama_:\n",
    "\n",
    "$$ S_T = S_{t_0} + \\int_{t_0}^T \\mu(S_t, t) dt + \\int_{t_0}^T \\sigma(S_t, t) dW_t $$ \n",
    "$$ \\implies $$\n",
    "$$ S_{n+1} = S_n + \\mu(S_n, t_n)\\Delta t + \\sigma(S_n, t_n) \\underbrace{(W_n - W_{n-1})}_{\\Delta W_n} $$ \n",
    "\n"
   ]
  },
  {
   "cell_type": "code",
   "execution_count": 211,
   "metadata": {
    "id": "-3qaiVpPJD2v"
   },
   "outputs": [
    {
     "data": {
      "text/plain": [
       "tensor([[[3.0000],\n",
       "         [3.0000],\n",
       "         [3.0000],\n",
       "         [3.0000],\n",
       "         [3.0000],\n",
       "         [3.0000],\n",
       "         [3.0000],\n",
       "         [3.0000],\n",
       "         [3.0000],\n",
       "         [3.0000]],\n",
       "\n",
       "        [[2.8763],\n",
       "         [3.0065],\n",
       "         [3.2629],\n",
       "         [3.0975],\n",
       "         [2.8945],\n",
       "         [2.7917],\n",
       "         [3.0303],\n",
       "         [2.9319],\n",
       "         [3.1034],\n",
       "         [3.0255]],\n",
       "\n",
       "        [[2.9116],\n",
       "         [3.0240],\n",
       "         [3.3530],\n",
       "         [3.1530],\n",
       "         [2.8249],\n",
       "         [2.7539],\n",
       "         [2.9543],\n",
       "         [2.9909],\n",
       "         [2.9422],\n",
       "         [2.8004]]], device='cuda:0')"
      ]
     },
     "execution_count": 211,
     "metadata": {},
     "output_type": "execute_result"
    }
   ],
   "source": [
    "# y0 dimension (batch_size, state_size) da el valor inicial de la SDE en tiempo ts[0]\n",
    "brownian_size, batch_size, state_size,  = 3, 200, 1\n",
    "y0 = torch.full((batch_size, state_size), 3, device=device)\n",
    "ts = torch.linspace(0, 1, brownian_size)\n",
    "\n",
    "sde = SDE(state_size=state_size, batch_size=batch_size, mlp_size=100, num_layers=3, tanh=False).to(device)\n",
    "gbm = GBM_SDE(mu=.25, sigma=.01).to(device)\n",
    "\n",
    "bm = torchsde.BrownianInterval(t0=0, t1=1, size=(batch_size, state_size), device=device)\n",
    "\n",
    "with torch.no_grad():\n",
    "    # Initial state y0, the SDE is solved over the interval [ts[0], ts[-1]].\n",
    "    # ys will have shape (t_size, batch_size, state_size)\n",
    "    ys = torchsde.sdeint(sde, y0, ts, method=\"euler\", bm=bm)        \n",
    "    ys_gbm = torchsde.sdeint(gbm, y0, ts, method=\"euler\", bm=bm)    \n",
    "ys[:, :10, :]"
   ]
  },
  {
   "cell_type": "code",
   "execution_count": 213,
   "metadata": {
    "scrolled": true
   },
   "outputs": [
    {
     "name": "stdout",
     "output_type": "stream",
     "text": [
      "torch.Size([3, 200, 1])\n"
     ]
    },
    {
     "data": {
      "text/plain": [
       "tensor([[[0.0000]],\n",
       "\n",
       "        [[0.4150]],\n",
       "\n",
       "        [[0.8721]]], device='cuda:0')"
      ]
     },
     "execution_count": 213,
     "metadata": {},
     "output_type": "execute_result"
    }
   ],
   "source": [
    "print(ys.shape) # (brownian_size, batch_size, state_size)\n",
    "\n",
    "distance = emd(ys_gbm, ys, qtiles=51)\n",
    "distance"
   ]
  },
  {
   "cell_type": "code",
   "execution_count": 214,
   "metadata": {},
   "outputs": [
    {
     "data": {
      "image/png": "[encoded data removed]",
      "text/plain": [
       "<Figure size 432x288 with 1 Axes>"
      ]
     },
     "metadata": {
      "needs_background": "light"
     },
     "output_type": "display_data"
    }
   ],
   "source": [
    "import pandas as pd\n",
    "pd.DataFrame(\n",
    "    {\n",
    "        \"gbm\": ys_gbm[-1,:,0].cpu().numpy(),\n",
    "        \"sde\": ys[-1,:,0].cpu().numpy()\n",
    "    }\n",
    ").plot.hist(alpha=0.7, bins=25);"
   ]
  },
  {
   "cell_type": "markdown",
   "metadata": {},
   "source": [
    "## Training"
   ]
  },
  {
   "cell_type": "markdown",
   "metadata": {},
   "source": [
    "Buscamos fitear los parámetros $\\theta_i$ y $\\phi_i$ de las NNs en instancia $i$ de entrenamiento tal que $W\\big(S_t(\\theta_i, \\phi_i),\\ R_t\\big) \\to_i 0$ para todos los instantes $t$ de la discretización del browniano.  \n",
    "\n",
    " $$ dS_t = \\mu_{\\theta_i}(t, S_t)\\ dt + \\sigma_{\\phi_i}(t, S_t)\\ dW_t $$\n",
    "\n",
    " $$ dR_t = a R_t \\ dt + b \\ R_t \\ dB_t $$"
   ]
  },
  {
   "cell_type": "code",
   "execution_count": 5,
   "metadata": {},
   "outputs": [
    {
     "name": "stdout",
     "output_type": "stream",
     "text": [
      "Starting from zero!\n"
     ]
    }
   ],
   "source": [
    "# cargar estados anteriores para iterar por partes\n",
    "try:\n",
    "    sde.load_state_dict(torch.load(\"./state\"))\n",
    "    best_st = pd.read_csv(\"best_st.csv\", index_col=[0]).iloc[:,0].values.tolist()\n",
    "    best_rt = pd.read_csv(\"best_rt.csv\", index_col=[0]).iloc[:,0].values.tolist()\n",
    "    losses = pd.read_csv(\"losses.csv\", index_col=[0]).iloc[:,0].values.tolist()\n",
    "    best_loss = min(losses)\n",
    "except: \n",
    "    print(\"Starting from zero!\")\n",
    "    losses = []\n",
    "    best_st = best_rt =  None \n",
    "    best_loss = np.inf"
   ]
  },
  {
   "cell_type": "code",
   "execution_count": 222,
   "metadata": {},
   "outputs": [
    {
     "name": "stdout",
     "output_type": "stream",
     "text": [
      "rm: cannot remove '*.csv': No such file or directory\r\n",
      "rm: cannot remove 'state': No such file or directory\r\n"
     ]
    }
   ],
   "source": [
    "! rm *.csv state"
   ]
  },
  {
   "cell_type": "code",
   "execution_count": 238,
   "metadata": {
    "colab": {
     "base_uri": "https://localhost:8080/",
     "height": 131
    },
    "id": "WXyL7_rHzFEp",
    "outputId": "1267141f-d850-45c6-d003-b0af657e08ef"
   },
   "outputs": [
    {
     "name": "stderr",
     "output_type": "stream",
     "text": [
      "100%|██████████████████████████████████████████████████████████████████████████| 200/200 [22:12<00:00,  6.66s/it]\n"
     ]
    }
   ],
   "source": [
    "steps = 200\n",
    "ts = torch.linspace(0, 1, 11)\n",
    "batch_size = 200\n",
    "\n",
    "mu, sigma = .25, .01 # µ y σ del GBM\n",
    "sde = SDE(state_size=state_size, batch_size=batch_size, mlp_size=100, num_layers=1, tanh=False).to(device)\n",
    "gbm = GBM_SDE(mu=mu, sigma=sigma).to(device)\n",
    "opt = torch.optim.Adam(sde.parameters(), lr=0.1)\n",
    "\n",
    "torch.autograd.set_detect_anomaly(True) # generar mensajes de errores si nos quedamos sin memoria\n",
    "\n",
    "y0 = torch.full((batch_size, state_size), 3, device=device)\n",
    "trange = tqdm.tqdm(range(steps))\n",
    "for step in trange:\n",
    "    # Nuevo batch, grad en 0\n",
    "    opt.zero_grad()\n",
    "    \n",
    "    # generar traza del GBM\n",
    "    bm = torchsde.BrownianInterval(t0=0, t1=1, size=(batch_size, state_size), device=device)  \n",
    "    st = torchsde.sdeint(gbm, y0, ts, method='euler', bm=bm)\n",
    "    \n",
    "    # generar traza de nuestra SDE\n",
    "    bm = torchsde.BrownianInterval(t0=0, t1=1, size=(batch_size, state_size), device=device)  \n",
    "    rt = torchsde.sdeint(sde, y0, ts, method='euler', bm=bm)\n",
    "\n",
    "    # media de EMD entre todos los instantes de las trazas\n",
    "    wasserstein_loss = emd(st, rt, qtiles=51).mean()\n",
    "    \n",
    "    # guardar el ultimo instante del mejor entrenamiento\n",
    "    if best_loss > wasserstein_loss.item():\n",
    "        best_st = st[-1,:,0].cpu().detach().numpy() \n",
    "        best_rt = rt[-1,:,0].cpu().detach().numpy()\n",
    "        best_loss = wasserstein_loss.item()\n",
    "    \n",
    "    losses.append(wasserstein_loss.item())\n",
    "    # Computar grad\n",
    "    wasserstein_loss.backward()\n",
    "    # Optimizar sobre el batch\n",
    "    opt.step()\n"
   ]
  },
  {
   "cell_type": "code",
   "execution_count": 10,
   "metadata": {},
   "outputs": [
    {
     "data": {
      "text/plain": [
       "<AxesSubplot:>"
      ]
     },
     "execution_count": 10,
     "metadata": {},
     "output_type": "execute_result"
    },
    {
     "data": {
      "image/png": "[encoded data removed]",
      "text/plain": [
       "<Figure size 432x288 with 1 Axes>"
      ]
     },
     "metadata": {
      "needs_background": "light"
     },
     "output_type": "display_data"
    }
   ],
   "source": [
    "pd.Series(losses[400:]).plot()"
   ]
  },
  {
   "cell_type": "code",
   "execution_count": 9,
   "metadata": {},
   "outputs": [
    {
     "data": {
      "text/plain": [
       "<AxesSubplot:>"
      ]
     },
     "execution_count": 9,
     "metadata": {},
     "output_type": "execute_result"
    },
    {
     "data": {
      "image/png": "[encoded data removed]",
      "text/plain": [
       "<Figure size 432x288 with 1 Axes>"
      ]
     },
     "metadata": {
      "needs_background": "light"
     },
     "output_type": "display_data"
    }
   ],
   "source": [
    "pd.Series(losses[:400]).plot()"
   ]
  },
  {
   "cell_type": "code",
   "execution_count": 11,
   "metadata": {},
   "outputs": [
    {
     "data": {
      "text/plain": [
       "<AxesSubplot:>"
      ]
     },
     "execution_count": 11,
     "metadata": {},
     "output_type": "execute_result"
    },
    {
     "data": {
      "image/png": "[encoded data removed]",
      "text/plain": [
       "<Figure size 432x288 with 1 Axes>"
      ]
     },
     "metadata": {
      "needs_background": "light"
     },
     "output_type": "display_data"
    }
   ],
   "source": [
    "pd.Series(losses[:400]).rolling(75).mean().plot()"
   ]
  },
  {
   "cell_type": "code",
   "execution_count": 243,
   "metadata": {},
   "outputs": [
    {
     "data": {
      "text/plain": [
       "0.004350206349045038"
      ]
     },
     "execution_count": 243,
     "metadata": {},
     "output_type": "execute_result"
    }
   ],
   "source": [
    "best_loss"
   ]
  },
  {
   "cell_type": "code",
   "execution_count": 260,
   "metadata": {},
   "outputs": [
    {
     "data": {
      "image/png": "[encoded data removed]",
      "text/plain": [
       "<Figure size 432x288 with 1 Axes>"
      ]
     },
     "metadata": {
      "needs_background": "light"
     },
     "output_type": "display_data"
    }
   ],
   "source": [
    "pd.DataFrame(\n",
    "    {\n",
    "        \"gbm\": best_st,\n",
    "        \"sde\": best_rt\n",
    "    }\n",
    ").plot.hist(alpha=0.6, bins=60);"
   ]
  },
  {
   "cell_type": "code",
   "execution_count": 247,
   "metadata": {},
   "outputs": [],
   "source": [
    "# Para guardar modelos\n",
    "\n",
    "torch.save(sde.state_dict(), \"./state\")\n",
    "pd.Series(best_st).to_csv(\"best_st.csv\")\n",
    "pd.Series(best_rt).to_csv(\"best_rt.csv\")\n",
    "pd.Series(losses).to_csv(\"losses.csv\")"
   ]
  },
  {
   "cell_type": "markdown",
   "metadata": {},
   "source": [
    "Samplear con un batch un poco más grande para verle mejor la pinta a las distribuciones"
   ]
  },
  {
   "cell_type": "code",
   "execution_count": 245,
   "metadata": {
    "scrolled": false
   },
   "outputs": [
    {
     "name": "stderr",
     "output_type": "stream",
     "text": [
      "100%|██████████████████████████████████████████████████████████████████████████| 200/200 [07:05<00:00,  2.13s/it]\n"
     ]
    }
   ],
   "source": [
    "sts = rts = np.array([])\n",
    "y0 = torch.full((batch_size, state_size), 3, device=device)\n",
    "steps = 200\n",
    "\n",
    "with torch.no_grad():\n",
    "    for i in tqdm.tqdm(range(steps)):\n",
    "        bm_ = torchsde.BrownianInterval(t0=0, t1=1, size=(batch_size, state_size), device=device)  \n",
    "        st = torchsde.sdeint(gbm, y0, ts, method='euler', bm=bm)\n",
    "        \n",
    "        bm = torchsde.BrownianInterval(t0=0, t1=1, size=(batch_size, state_size), device=device)  \n",
    "        rt = torchsde.sdeint(sde, y0, ts, method='euler', bm=bm) \n",
    "        \n",
    "        sts = np.append(sts, st[-1:, :, :][0,:,0].cpu().detach().numpy())\n",
    "        rts = np.append(rts, rt[-1:, :, :][0,:,0].cpu().detach().numpy())"
   ]
  },
  {
   "cell_type": "code",
   "execution_count": 246,
   "metadata": {},
   "outputs": [
    {
     "data": {
      "text/plain": [
       "<AxesSubplot:ylabel='Frequency'>"
      ]
     },
     "execution_count": 246,
     "metadata": {},
     "output_type": "execute_result"
    },
    {
     "data": {
      "image/png": "[encoded data removed]",
      "text/plain": [
       "<Figure size 432x288 with 1 Axes>"
      ]
     },
     "metadata": {
      "needs_background": "light"
     },
     "output_type": "display_data"
    }
   ],
   "source": [
    "pd.DataFrame(\n",
    "    {\n",
    "        \"gbm\": sts,\n",
    "        \"sde\": rts\n",
    "    }\n",
    ").plot.hist(alpha=0.7, bins=80)"
   ]
  },
  {
   "cell_type": "markdown",
   "metadata": {},
   "source": [
    "## Pricing"
   ]
  },
  {
   "cell_type": "markdown",
   "metadata": {},
   "source": [
    "Usando la medida de riesgo neutral con $r=0$ nos queda que el valor de la opción está dado al instante $t$ por:\n",
    "$$ C(S, t) = \\mathbb{E}(f(S_t + \\int_t^T \\sigma(S_t, t)\\ dB)) $$\n",
    "\n",
    "Para calcular lo que está entre paréntesis podemos resolver numéricamente con `torchsde.sdeint` usando la SDE neuronal pero resolviendo el proceso para drift nulo, $\\mu(t,S_t) = 0$."
   ]
  },
  {
   "cell_type": "code",
   "execution_count": 248,
   "metadata": {},
   "outputs": [
    {
     "name": "stderr",
     "output_type": "stream",
     "text": [
      "100%|██████████████████████████████████████████████████████████████████████████| 200/200 [06:44<00:00,  2.02s/it]\n"
     ]
    }
   ],
   "source": [
    "# Drift a 0 para evaluar en la medida 'neutral' (r = 0)\n",
    "import copy\n",
    "sde_neutral = copy.deepcopy(sde)\n",
    "gbm_neutral = copy.deepcopy(gbm)\n",
    "sde_neutral.f = gbm_neutral.f = lambda x,y: 0*x*y\n",
    "\n",
    "sts = rts = np.array([])\n",
    "y0 = torch.full((batch_size, state_size), 3, device=device)\n",
    "steps = 200\n",
    "\n",
    "with torch.no_grad():\n",
    "    for i in tqdm.tqdm(range(steps)):\n",
    "        bm_ = torchsde.BrownianInterval(t0=0, t1=1, size=(batch_size, state_size), device=device)  \n",
    "        st = torchsde.sdeint(gbm_neutral, y0, ts, method='euler', bm=bm)\n",
    "        \n",
    "        bm = torchsde.BrownianInterval(t0=0, t1=1, size=(batch_size, state_size), device=device)  \n",
    "        rt = torchsde.sdeint(sde_neutral, y0, ts, method='euler', bm=bm) \n",
    "        \n",
    "        sts = np.append(sts, st[-1:, :, :][0,:,0].cpu().detach().numpy())\n",
    "        rts = np.append(rts, rt[-1:, :, :][0,:,0].cpu().detach().numpy())"
   ]
  },
  {
   "cell_type": "code",
   "execution_count": 255,
   "metadata": {},
   "outputs": [
    {
     "data": {
      "image/png": "[encoded data removed]",
      "text/plain": [
       "<Figure size 864x288 with 1 Axes>"
      ]
     },
     "metadata": {
      "needs_background": "light"
     },
     "output_type": "display_data"
    }
   ],
   "source": [
    "pd.DataFrame(\n",
    "    {\n",
    "        \"gbm\": sts,\n",
    "        \"sde\": rts\n",
    "    }\n",
    ").plot.hist(alpha=0.7, bins=50, figsize=(12,4));"
   ]
  },
  {
   "cell_type": "code",
   "execution_count": 256,
   "metadata": {},
   "outputs": [
    {
     "data": {
      "text/plain": [
       "(3.00018857563138, 2.9998640016138554)"
      ]
     },
     "execution_count": 256,
     "metadata": {},
     "output_type": "execute_result"
    }
   ],
   "source": [
    "rts.mean(), sts.mean()"
   ]
  },
  {
   "cell_type": "code",
   "execution_count": 257,
   "metadata": {},
   "outputs": [],
   "source": [
    "# Un viejo conocido de /Codigo/opcion_europea_bs.py\n",
    "\n",
    "import math\n",
    "from scipy.stats import norm\n",
    "\"\"\"\n",
    "opcion_europea_bs\n",
    "Def\n",
    "    Calculador del precio de una opcion Europea con el modelo de Black Scholes\n",
    "Inputs\n",
    "    - tipo : string - Tipo de contrato entre [\"CALL\",\"PUT\"]\n",
    "    - S : float - Spot price del activo\n",
    "    - K : float - Strike price del contrato\n",
    "    - T : float - Tiempo hasta la expiracion (en años)\n",
    "    - r : float - Tasa 'libre de riesgo' (anualizada)\n",
    "    - sigma : float - Volatilidad implicita (anualizada)\n",
    "    - div : float - Tasa de dividendos continuos (anualizada)\n",
    "Outputs\n",
    "    - precio_BS: float - Precio del contrato\n",
    "\"\"\"\n",
    "\n",
    "def opcion_europea_bs(tipo, S, K, T, r, sigma, div):\n",
    "    #Defino los ds\n",
    "    d1 = (math.log(S / K) + (r - div + 0.5 * sigma * sigma) * T) / sigma / math.sqrt(T)\n",
    "    d2 = (math.log(S / K) + (r - div - 0.5 * sigma * sigma) * T) / sigma / math.sqrt(T)\n",
    "\n",
    "    if (tipo == \"C\"):\n",
    "        precio_BS = math.exp(-div*T) *S * norm.cdf(d1) - K * math.exp(-r * T) * norm.cdf(d2)\n",
    "    elif (tipo == \"P\"):\n",
    "        precio_BS = K * math.exp(-r * T) * norm.cdf(-d2) - math.exp(-div*T) * S * norm.cdf(-d1)\n",
    "    return precio_BS"
   ]
  },
  {
   "cell_type": "code",
   "execution_count": 258,
   "metadata": {},
   "outputs": [],
   "source": [
    "strikes = np.linspace(2.95, 3.06, 10)\n",
    "\n",
    "gbm_vals = np.clip(sts.mean() - strikes, a_max=None, a_min=0)\n",
    "sde_vals = np.clip(rts.mean() - strikes, a_max=None, a_min=0)\n",
    "bs_vals = np.vectorize(\n",
    "    lambda s: opcion_europea_bs(tipo=\"C\", S=3, K=s, T=1, r=0, sigma=gbm_neutral.sigma, div=0)\n",
    ")(strikes)"
   ]
  },
  {
   "cell_type": "code",
   "execution_count": 259,
   "metadata": {},
   "outputs": [
    {
     "data": {
      "image/png": "[encoded data removed]",
      "text/plain": [
       "<Figure size 576x288 with 1 Axes>"
      ]
     },
     "metadata": {
      "needs_background": "light"
     },
     "output_type": "display_data"
    }
   ],
   "source": [
    "ax = pd.DataFrame(\n",
    "    {\n",
    "        \"gbm (sde)\": gbm_vals,\n",
    "        \"black-scholes\": bs_vals,\n",
    "        \"trained sde\": sde_vals\n",
    "    },\n",
    "    index=strikes\n",
    ").plot(title='Model pricing', figsize=(8,4))\n",
    "ax.set_xlabel(\"Strikes\")\n",
    "ax.set_ylabel(\"Option price\");\n"
   ]
  },
  {
   "cell_type": "markdown",
   "metadata": {},
   "source": [
    "Por formulación dual (Ramdas et al. [2015]) de la distancia de Wasserstein-1 vale \n",
    "$$ \\mathbb{E}[f(R_t)] - \\mathbb{E}[f(S_t)] \\leq W(R_t, S_t) $$\n",
    "considerando que la función de precios $f$ es una función Lipschitz-1.\n",
    "\n",
    "\n",
    "[DeLis [2021]](https://arxiv.org/pdf/2105.13320.pdf) conjetura que para $W$ y $V$ medidas de martigala libres de riesgo para $R_t$ y $S_t$ respectivamente además vale\n",
    "$$ \\big | \\underbrace{\\mathbb{E}_W[f(R_t)] - \\mathbb{E}_V[f(S_t)]}_{C(R,t) - C(S,t)} \\big |  \\leq  \\big | \\mathbb{E}[f(R_t)] - \\mathbb{E}[f(S_t)] \\big | $$\n",
    "\n",
    "Que nos da:\n",
    "$$ |C(S,t) - C(R,t)| \\leq W(R_t, S_t)$$\n",
    "\n",
    "Con lo que $C(S,t) \\to_i C(R,t)$ cuando $W(R_t, S_t) \\to_i 0$."
   ]
  },
  {
   "cell_type": "code",
   "execution_count": null,
   "metadata": {},
   "outputs": [],
   "source": []
  }
 ],
 "metadata": {
  "colab": {
   "name": "neural_options.ipynb",
   "provenance": []
  },
  "kernelspec": {
   "display_name": "ancufi",
   "language": "python",
   "name": "ancufi"
  },
  "language_info": {
   "codemirror_mode": {
    "name": "ipython",
    "version": 3
   },
   "file_extension": ".py",
   "mimetype": "text/x-python",
   "name": "python",
   "nbconvert_exporter": "python",
   "pygments_lexer": "ipython3",
   "version": "3.8.10"
  }
 },
 "nbformat": 4,
 "nbformat_minor": 1
}
