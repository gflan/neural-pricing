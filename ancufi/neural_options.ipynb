{
 "cells": [
  {
   "cell_type": "code",
   "execution_count": 4,
   "metadata": {
    "colab": {
     "base_uri": "https://localhost:8080/"
    },
    "id": "N46EgiaRIuVy",
    "outputId": "855c6690-b626-48a2-a114-6b6b6c2755f6"
   },
   "outputs": [
    {
     "name": "stdout",
     "output_type": "stream",
     "text": [
      "Requirement already satisfied: torchsde in /home/gflan/.cache/pypoetry/virtualenvs/ancufi--w791oWn-py3.8/lib/python3.8/site-packages (0.2.5)\n",
      "Requirement already satisfied: torch>=1.6.0 in /home/gflan/.cache/pypoetry/virtualenvs/ancufi--w791oWn-py3.8/lib/python3.8/site-packages (from torchsde) (1.12.0)\n",
      "Requirement already satisfied: trampoline>=0.1.2 in /home/gflan/.cache/pypoetry/virtualenvs/ancufi--w791oWn-py3.8/lib/python3.8/site-packages (from torchsde) (0.1.2)\n",
      "Requirement already satisfied: numpy>=1.19.* in /home/gflan/.cache/pypoetry/virtualenvs/ancufi--w791oWn-py3.8/lib/python3.8/site-packages (from torchsde) (1.23.1)\n",
      "Requirement already satisfied: boltons>=20.2.1 in /home/gflan/.cache/pypoetry/virtualenvs/ancufi--w791oWn-py3.8/lib/python3.8/site-packages (from torchsde) (21.0.0)\n",
      "Requirement already satisfied: scipy>=1.5 in /home/gflan/.cache/pypoetry/virtualenvs/ancufi--w791oWn-py3.8/lib/python3.8/site-packages (from torchsde) (1.6.1)\n",
      "Requirement already satisfied: typing-extensions in /home/gflan/.cache/pypoetry/virtualenvs/ancufi--w791oWn-py3.8/lib/python3.8/site-packages (from torch>=1.6.0->torchsde) (4.3.0)\n",
      "\n",
      "\u001b[1m[\u001b[0m\u001b[34;49mnotice\u001b[0m\u001b[1;39;49m]\u001b[0m\u001b[39;49m A new release of pip available: \u001b[0m\u001b[31;49m22.2\u001b[0m\u001b[39;49m -> \u001b[0m\u001b[32;49m22.2.1\u001b[0m\n",
      "\u001b[1m[\u001b[0m\u001b[34;49mnotice\u001b[0m\u001b[1;39;49m]\u001b[0m\u001b[39;49m To update, run: \u001b[0m\u001b[32;49mpip install --upgrade pip\u001b[0m\n"
     ]
    }
   ],
   "source": [
    "!poetry run python -m pip install torchsde"
   ]
  },
  {
   "cell_type": "code",
   "execution_count": 3,
   "metadata": {},
   "outputs": [
    {
     "name": "stdout",
     "output_type": "stream",
     "text": [
      "pip 22.2 from /home/gflan/.cache/pypoetry/virtualenvs/ancufi--w791oWn-py3.8/lib/python3.8/site-packages/pip (python 3.8)\r\n"
     ]
    }
   ],
   "source": [
    "!poetry run python -m pip -V"
   ]
  },
  {
   "cell_type": "code",
   "execution_count": 5,
   "metadata": {
    "id": "bSN8wJPZIVbg"
   },
   "outputs": [],
   "source": [
    "import torch\n",
    "from torch import nn\n",
    "import torchsde\n",
    "import numpy as np\n",
    "\n",
    "import os\n",
    "import sys\n",
    "import tqdm"
   ]
  },
  {
   "cell_type": "code",
   "execution_count": 6,
   "metadata": {
    "colab": {
     "base_uri": "https://localhost:8080/"
    },
    "id": "OMBtdiaYz2rv",
    "outputId": "b9090f12-6122-42eb-a079-54fc2e1bdc86"
   },
   "outputs": [
    {
     "name": "stdout",
     "output_type": "stream",
     "text": [
      "Warning: CUDA not available; falling back to CPU but this is likely to be very slow.\n"
     ]
    }
   ],
   "source": [
    "is_cuda = torch.cuda.is_available()\n",
    "# is_cuda = False\n",
    "device = 'cuda' if is_cuda else 'cpu'\n",
    "if not is_cuda:\n",
    "    print(\"Warning: CUDA not available; falling back to CPU but this is likely to be very slow.\")"
   ]
  },
  {
   "cell_type": "markdown",
   "metadata": {
    "id": "XfLIz21JVll3"
   },
   "source": [
    "Nuestro modelo, drift y difussion son redes neuronales que vamos a entrenar."
   ]
  },
  {
   "cell_type": "code",
   "execution_count": 356,
   "metadata": {},
   "outputs": [],
   "source": [
    "class MLP(torch.nn.Module):\n",
    "    def __init__(self, in_size, out_size, mlp_size, num_layers, tanh):\n",
    "        super().__init__()        \n",
    "        \n",
    "        activation = lambda : torch.nn.Tanh() if tanh else torch.nn.LeakyReLU(0.01) \n",
    "        model = [\n",
    "            torch.nn.Linear(in_size, mlp_size),\n",
    "            activation()\n",
    "        ]\n",
    "        for _ in range(num_layers - 1):\n",
    "            model.append(torch.nn.Linear(mlp_size, mlp_size))\n",
    "            model.append(activation())\n",
    "        model.append(torch.nn.Linear(mlp_size, out_size))\n",
    "\n",
    "        self._model = torch.nn.Sequential(*model)\n",
    "\n",
    "    def forward(self, x):\n",
    "        return self._model(x)"
   ]
  },
  {
   "cell_type": "code",
   "execution_count": 354,
   "metadata": {
    "id": "5_03s6FWIzLP"
   },
   "outputs": [],
   "source": [
    "class SDE(torch.nn.Module):\n",
    "    noise_type = 'diagonal'\n",
    "    sde_type = 'ito'\n",
    "\n",
    "    def __init__(self, state_size=1, batch_size=32, mlp_size=100, num_layers=3, tanh=False):\n",
    "        super().__init__()\n",
    "        \n",
    "        in_size = 2 * state_size # S(t) y t\n",
    "        out_size = state_size # drift o difusion final\n",
    "        mu_sigma_args = dict(\n",
    "            in_size=in_size,\n",
    "            out_size=out_size,\n",
    "            mlp_size=mlp_size, \n",
    "            num_layers=num_layers,\n",
    "            tanh=tanh\n",
    "        )\n",
    "        self.mu = MLP(**mu_sigma_args)\n",
    "        self.sigma = MLP(**mu_sigma_args)\n",
    "\n",
    "    # Drift\n",
    "    def f(self, t, y):\n",
    "        # armar un tensor de batch_size componentes con el tiempo t\n",
    "        batch_t = torch.full((batch_size,1), t.item())\n",
    "        # forward prop de la f\n",
    "        # mu([\n",
    "        #     (y_0, t), \n",
    "        #     (y_1, t),\n",
    "        #     .. \n",
    "        #     (y_n, t) <--- n = batch_size\n",
    "        # ]) \n",
    "        return self.mu(torch.cat((y, batch_t), dim=1))  # shape (batch_size, state_size)\n",
    "\n",
    "    # Diffusion\n",
    "    def g(self, t, y):\n",
    "        # idem mu\n",
    "        batch_t = torch.full((batch_size,1), t.item())\n",
    "        return self.sigma(torch.cat((y, batch_t), dim=1))\n",
    "\n",
    "# sde = SDE().to(device)"
   ]
  },
  {
   "cell_type": "markdown",
   "metadata": {
    "id": "tg9PLTdcTjoZ"
   },
   "source": [
    "Browniano Geométrico como benchmark conocido"
   ]
  },
  {
   "cell_type": "code",
   "execution_count": 81,
   "metadata": {
    "id": "TbdcynUYHGkQ"
   },
   "outputs": [],
   "source": [
    "class BGM_SDE(nn.Module):\n",
    "\n",
    "    def __init__(self, mu, sigma):\n",
    "        super().__init__()\n",
    "        self.noise_type=\"diagonal\"\n",
    "        self.sde_type = \"ito\"\n",
    "\n",
    "        self.mu = mu\n",
    "        self.sigma = sigma\n",
    "\n",
    "    def f(self, t, y):\n",
    "        return self.mu * y\n",
    "\n",
    "    def g(self, t, y):\n",
    "        return self.sigma * y"
   ]
  },
  {
   "cell_type": "markdown",
   "metadata": {
    "id": "-ZeAy7nETak6"
   },
   "source": [
    "## Earth Mover's Distance"
   ]
  },
  {
   "cell_type": "code",
   "execution_count": 82,
   "metadata": {
    "id": "-1a-pHa-OgZR"
   },
   "outputs": [],
   "source": [
    "def emd(p, q, steps=11):\n",
    "  quantiles = torch.linspace(0, 1, steps=steps) \n",
    "  # tensor([0.0000, 0.1000, 0.2000, 0.3000, 0.4000, 0.5000, 0.6000, 0.7000, 0.8000, 0.9000, 1.0000])\n",
    "  p_q = torch.quantile(p, quantiles, dim=0, keepdim=True) # aproximacion numérica\n",
    "  q_q = torch.quantile(q, quantiles, dim=0, keepdim=True)\n",
    "\n",
    "  return torch.abs(p_q - q_q).sum().div(steps)"
   ]
  },
  {
   "cell_type": "code",
   "execution_count": 211,
   "metadata": {
    "colab": {
     "base_uri": "https://localhost:8080/"
    },
    "id": "V906VPN3fdLl",
    "outputId": "cddb24a7-d9ea-4943-adf8-24b41f88361f"
   },
   "outputs": [
    {
     "name": "stdout",
     "output_type": "stream",
     "text": [
      "tensor(1.0504, grad_fn=<DivBackward0>)\n"
     ]
    }
   ],
   "source": [
    "# Dos normales con misma varianza y un shift de una unidad, emd ~= 1 \n",
    "\n",
    "p = torch.normal(mean=1, std=1, size=(300,), requires_grad=True)\n",
    "q = torch.normal(mean=0, std=1, size=(300,), requires_grad=True)\n",
    "\n",
    "res = emd(p, q, steps=11)\n",
    "print(res)\n",
    "\n",
    "del res, p, q"
   ]
  },
  {
   "cell_type": "markdown",
   "metadata": {
    "id": "WWQCMiRMZBvC"
   },
   "source": [
    "### TorchSDE"
   ]
  },
  {
   "cell_type": "code",
   "execution_count": 278,
   "metadata": {
    "id": "-3qaiVpPJD2v"
   },
   "outputs": [],
   "source": [
    "# y0 dimension (batch_size, state_size) da el valor inicial de la SDE en tiempo ts[0]\n",
    "batch_size, state_size, brownian_size = 200, 1, 2\n",
    "y0 = torch.randn(batch_size, state_size, device=device) + 3\n",
    "ts = torch.linspace(0, 1, brownian_size)\n",
    "\n",
    "sde = SDE(state_size=state_size, batch_size=batch_size, mlp_size=100, num_layers=3, tanh=False).to(device)\n",
    "\n",
    "bm = torchsde.BrownianInterval(t0=0, t1=1, size=(batch_size, state_size), device=device)\n",
    "\n",
    "with torch.no_grad():\n",
    "    # Initial state y0, the SDE is solved over the interval [ts[0], ts[-1]].\n",
    "    # ys will have shape (t_size, batch_size, state_size)\n",
    "    ys = torchsde.sdeint(sde, y0, ts, method=\"euler\", bm=bm)        \n",
    "    ys_bgm = torchsde.sdeint(BGM_SDE(mu=5, sigma=1), y0, ts, method=\"euler\", bm=bm)    "
   ]
  },
  {
   "cell_type": "code",
   "execution_count": 351,
   "metadata": {
    "scrolled": true
   },
   "outputs": [
    {
     "name": "stdout",
     "output_type": "stream",
     "text": [
      "torch.Size([2, 200, 1])\n"
     ]
    },
    {
     "data": {
      "text/plain": [
       "tensor([ 566.5880,  109.7431,  390.6183,  375.3036,  507.1009,  200.8192,\n",
       "          92.1636,   69.4030,  375.7620,  240.4749,  163.6647,  412.8012,\n",
       "         280.1968,  125.8940,  237.7084,  175.4166,  111.6820,   75.0634,\n",
       "          75.0805, 1334.8810,  314.5934,  222.9893,   66.5393,  188.7005,\n",
       "         778.5670,  256.9692,  142.1535,  129.9545,  235.6903,   85.2859,\n",
       "         180.7373,  168.3343,  248.1388,  658.4788,  100.0703, 1393.7682,\n",
       "         310.2601,  740.6667,  356.4693,  714.0581,  354.9951,  301.5800,\n",
       "          68.3872, 2558.6350,  129.2764,  796.4269,  640.1429,  678.6769,\n",
       "         556.5181,  345.0132,  105.4384,   46.4595,  192.5676, 2455.6057,\n",
       "          43.4693,  248.7000,   89.4963,  252.2600,   73.6997,  137.3809,\n",
       "          94.6901,  161.0526,  143.8241,  257.5584,  185.0863,   33.7823,\n",
       "         128.8642,   80.2530,   97.3228,  379.8468,  166.3884,  432.9592,\n",
       "         184.5504, 1702.5585, 1419.4962,  563.8412,  246.1267,   50.1772,\n",
       "         142.3767,   74.4850,   36.0428,  236.0263,  132.5432,  157.9984,\n",
       "         202.5612,  349.6874,   93.0081,  135.3369,  540.5409,  296.2429,\n",
       "        1449.2921,  716.2686,   64.2496,   50.1183,  181.8380, 1020.5028,\n",
       "         421.4231, 2120.7290,  159.4772,  272.3262,  702.0007,  478.7242,\n",
       "         252.1151,  238.4495,  476.0404,  194.1676, 1199.9761,  485.4263,\n",
       "         178.3050,   58.2463,  142.7505,   52.7687, 1016.2990,  116.3996,\n",
       "         176.9941,   99.2272, 1829.4357,  160.1582,  304.3795,  141.7862,\n",
       "          56.6639,  413.9084,   38.5984,  278.3818,  110.6599,  134.1058,\n",
       "        2591.7905,   18.9109,   98.1735,  190.9601, 2180.1584,  208.9367,\n",
       "         394.9998,  512.8918,  395.1719,  507.2573,  757.1032,  174.4340,\n",
       "         692.7346,  277.0858,  796.2214,  186.9567,  391.6115,  330.8792,\n",
       "         214.0424,  966.4318,   81.0985,   42.8192,  556.0435,   54.9112,\n",
       "         172.3902,   77.1011, 1664.7555,   67.1955,  590.2025,  915.5584,\n",
       "         211.3859,  201.8431,   53.0507,  181.6822,  114.6232,  674.1491,\n",
       "         137.0585,   27.7658,   37.3935, 1313.1864,  300.2948,  135.5017,\n",
       "         290.2685,   93.6308,  147.0630,  270.0842,  238.7513, 1136.4647,\n",
       "         132.4044,   48.5331,  122.9456,  718.4791,  494.4405,  408.2275,\n",
       "         338.5307,  274.9172,  183.0829,   42.9594,  180.6371,  343.3159,\n",
       "          45.5070,  149.2570,  412.8591,   69.8160,  248.6714,   49.2955,\n",
       "         302.4782,  367.5259,   30.0733,  565.4190,  923.0043,  479.8446,\n",
       "          66.6675,  695.0847])"
      ]
     },
     "execution_count": 351,
     "metadata": {},
     "output_type": "execute_result"
    }
   ],
   "source": [
    "print(ys.shape) # (brownian_size, batch_size, state_size)\n",
    "\n",
    "ys_bgm[-1,:,0] # final del browniano, todo el batch, primer (unico) estado"
   ]
  },
  {
   "cell_type": "code",
   "execution_count": 341,
   "metadata": {},
   "outputs": [
    {
     "data": {
      "text/plain": [
       "<AxesSubplot:ylabel='Frequency'>"
      ]
     },
     "execution_count": 341,
     "metadata": {},
     "output_type": "execute_result"
    },
    {
     "data": {
      "image/png": "[encoded data removed]",
      "text/plain": [
       "<Figure size 432x288 with 1 Axes>"
      ]
     },
     "metadata": {
      "needs_background": "light"
     },
     "output_type": "display_data"
    }
   ],
   "source": [
    "import pandas as pd\n",
    "pd.DataFrame(\n",
    "    {\n",
    "        \"bgm\": ys_bgm[-1,:,0].numpy(),\n",
    "#         \"sde\": ys[-1,:,0].numpy()\n",
    "    }\n",
    ").plot.hist(alpha=0.7, bins=10)"
   ]
  },
  {
   "cell_type": "code",
   "execution_count": 145,
   "metadata": {},
   "outputs": [
    {
     "data": {
      "text/plain": [
       "tensor(2.7549)"
      ]
     },
     "execution_count": 145,
     "metadata": {},
     "output_type": "execute_result"
    }
   ],
   "source": [
    "emd(ys[-1,:,0], ys_bgm[-1,:,0])"
   ]
  },
  {
   "cell_type": "code",
   "execution_count": 23,
   "metadata": {},
   "outputs": [],
   "source": [
    "torchsde.sdeint?"
   ]
  },
  {
   "cell_type": "code",
   "execution_count": 459,
   "metadata": {},
   "outputs": [],
   "source": [
    "try:\n",
    "    sde.load_state_dict(torch.load(\"./state\"))\n",
    "    best_st = pd.read_csv(\"best_st.csv\", index_col=[0]).iloc[:,0].values.tolist()\n",
    "    best_rt = pd.read_csv(\"best_rt.csv\", index_col=[0]).iloc[:,0].values.tolist()\n",
    "    losses = pd.read_csv(\"losses.csv\", index_col=[0]).iloc[:,0].values.tolist()\n",
    "except: \n",
    "    print(\"Starting from zero!\")"
   ]
  },
  {
   "cell_type": "code",
   "execution_count": 461,
   "metadata": {
    "colab": {
     "base_uri": "https://localhost:8080/",
     "height": 131
    },
    "id": "WXyL7_rHzFEp",
    "outputId": "1267141f-d850-45c6-d003-b0af657e08ef"
   },
   "outputs": [
    {
     "name": "stderr",
     "output_type": "stream",
     "text": [
      "100%|███████████████████████████████████████████████████████████████████████████████████████████████████████████████| 300/300 [20:16<00:00,  4.05s/it]\n"
     ]
    }
   ],
   "source": [
    "steps = 300\n",
    "ts = torch.linspace(0, 1, 2)\n",
    "batch_size = 200\n",
    "\n",
    "a, b = 1, .25 # µ y σ del BGM\n",
    "sde = SDE(state_size=state_size, batch_size=batch_size, mlp_size=50, num_layers=3, tanh=True).to(device)\n",
    "gbm = BGM_SDE(mu=a, sigma=b).to(device)\n",
    "opt = torch.optim.Adam(sde.parameters(), lr=0.1)\n",
    "\n",
    "# losses = []\n",
    "best_st = best_rt =  None \n",
    "best_loss = np.inf\n",
    "\n",
    "y0 = torch.full((batch_size, state_size), 100)\n",
    "\n",
    "trange = tqdm.tqdm(range(steps))\n",
    "for step in trange:\n",
    "    # Nuevo batch, grad en 0\n",
    "    opt.zero_grad()\n",
    "\n",
    "    #y0 = 10*torch.randn(batch_size, state_size, device=device) + 140\n",
    "    \n",
    "    # generar traza del GBM\n",
    "    bm = torchsde.BrownianInterval(t0=0, t1=1, size=(batch_size, state_size), device=device)  \n",
    "    st = torchsde.sdeint(gbm, y0, ts, method='euler', bm=bm)\n",
    "    \n",
    "    # generar traza de nuestra SDE\n",
    "    bm = torchsde.BrownianInterval(t0=0, t1=1, size=(batch_size, state_size), device=device)  \n",
    "    rt = torchsde.sdeint(sde, y0, ts, method='euler', bm=bm) # (brownian_size, batch_size, state_size)?\n",
    "\n",
    "    # agarrar las ultimas para comparar\n",
    "    wasserstein_loss = emd(st[-1,:,0], rt[-1,:,0])\n",
    "    \n",
    "    if best_loss > wasserstein_loss.item():\n",
    "        best_st = st[-1,:,0].detach().numpy() \n",
    "        best_rt = rt[-1,:,0].detach().numpy()\n",
    "        best_loss = wasserstein_loss.item()\n",
    "    \n",
    "    losses.append(wasserstein_loss.item())\n",
    "    # Computar grad\n",
    "    wasserstein_loss.backward()\n",
    "    # Optimizar sobre el batch\n",
    "    opt.step()\n"
   ]
  },
  {
   "cell_type": "code",
   "execution_count": 427,
   "metadata": {},
   "outputs": [],
   "source": [
    "torch.save(sde.state_dict(), \"./state\")\n",
    "pd.Series(best_st).to_csv(\"best_st.csv\")\n",
    "pd.Series(best_rt).to_csv(\"best_rt.csv\")\n",
    "pd.Series(losses).to_csv(\"losses.csv\")"
   ]
  },
  {
   "cell_type": "code",
   "execution_count": 462,
   "metadata": {},
   "outputs": [
    {
     "data": {
      "text/plain": [
       "<AxesSubplot:>"
      ]
     },
     "execution_count": 462,
     "metadata": {},
     "output_type": "execute_result"
    },
    {
     "data": {
      "image/png": "[encoded data removed]",
      "text/plain": [
       "<Figure size 432x288 with 1 Axes>"
      ]
     },
     "metadata": {
      "needs_background": "light"
     },
     "output_type": "display_data"
    }
   ],
   "source": [
    "pd.Series(losses).plot()"
   ]
  },
  {
   "cell_type": "code",
   "execution_count": 463,
   "metadata": {},
   "outputs": [
    {
     "data": {
      "text/plain": [
       "<AxesSubplot:>"
      ]
     },
     "execution_count": 463,
     "metadata": {},
     "output_type": "execute_result"
    },
    {
     "data": {
      "image/png": "[encoded data removed]",
      "text/plain": [
       "<Figure size 432x288 with 1 Axes>"
      ]
     },
     "metadata": {
      "needs_background": "light"
     },
     "output_type": "display_data"
    }
   ],
   "source": [
    "pd.Series(losses).rolling(5).mean().plot()"
   ]
  },
  {
   "cell_type": "code",
   "execution_count": 464,
   "metadata": {},
   "outputs": [
    {
     "data": {
      "text/plain": [
       "8.304627418518066"
      ]
     },
     "execution_count": 464,
     "metadata": {},
     "output_type": "execute_result"
    }
   ],
   "source": [
    "best_loss"
   ]
  },
  {
   "cell_type": "code",
   "execution_count": 465,
   "metadata": {},
   "outputs": [
    {
     "data": {
      "text/plain": [
       "<AxesSubplot:ylabel='Frequency'>"
      ]
     },
     "execution_count": 465,
     "metadata": {},
     "output_type": "execute_result"
    },
    {
     "data": {
      "image/png": "[encoded data removed]",
      "text/plain": [
       "<Figure size 432x288 with 1 Axes>"
      ]
     },
     "metadata": {
      "needs_background": "light"
     },
     "output_type": "display_data"
    }
   ],
   "source": [
    "pd.DataFrame(\n",
    "    {\n",
    "        \"bgm\": best_st,\n",
    "        \"sde\": best_rt\n",
    "    }\n",
    ").plot.hist(alpha=0.7, bins=50)"
   ]
  },
  {
   "cell_type": "code",
   "execution_count": 368,
   "metadata": {},
   "outputs": [
    {
     "data": {
      "text/plain": [
       "count       200.000000\n",
       "mean      13455.070312\n",
       "std       30117.035156\n",
       "min           3.530167\n",
       "25%         951.140167\n",
       "50%        3019.674072\n",
       "75%       10720.533203\n",
       "max      222529.781250\n",
       "dtype: float64"
      ]
     },
     "execution_count": 368,
     "metadata": {},
     "output_type": "execute_result"
    }
   ],
   "source": [
    "pd.Series(best_st).describe()"
   ]
  },
  {
   "cell_type": "code",
   "execution_count": 257,
   "metadata": {},
   "outputs": [],
   "source": [
    "sde.f = lambda x,y: 0*x*y"
   ]
  },
  {
   "cell_type": "code",
   "execution_count": 451,
   "metadata": {},
   "outputs": [
    {
     "name": "stderr",
     "output_type": "stream",
     "text": [
      "100%|█████████████████████████████████████████████████████████████████████████████████████████████████████████████████| 20/20 [00:46<00:00,  2.32s/it]\n"
     ]
    }
   ],
   "source": [
    "sts = rts = np.array([])\n",
    "with torch.no_grad():\n",
    "    for i in tqdm.tqdm(range(20)):\n",
    "        y0 = torch.randn(batch_size, state_size, device=device) + 140\n",
    "        bm_ = torchsde.BrownianInterval(t0=0, t1=1, size=(batch_size, state_size), device=device)  \n",
    "        st = torchsde.sdeint(gbm, y0, ts, method='euler', bm=bm)\n",
    "        bm = torchsde.BrownianInterval(t0=0, t1=1, size=(batch_size, state_size), device=device)  \n",
    "        rt = torchsde.sdeint(sde, y0, ts, method='euler', bm=bm) # (brownian_size, batch_size, state_size)?\n",
    "        sts = np.append(sts, st[-1:, :, :][0,:,0].detach().numpy())\n",
    "        rts = np.append(rts, rt[-1:, :, :][0,:,0].detach().numpy())"
   ]
  },
  {
   "cell_type": "code",
   "execution_count": 452,
   "metadata": {},
   "outputs": [
    {
     "data": {
      "text/plain": [
       "<AxesSubplot:ylabel='Frequency'>"
      ]
     },
     "execution_count": 452,
     "metadata": {},
     "output_type": "execute_result"
    },
    {
     "data": {
      "image/png": "[encoded data removed]",
      "text/plain": [
       "<Figure size 432x288 with 1 Axes>"
      ]
     },
     "metadata": {
      "needs_background": "light"
     },
     "output_type": "display_data"
    }
   ],
   "source": [
    "pd.DataFrame(\n",
    "    {\n",
    "        \"bgm\": sts,\n",
    "        \"sde\": rts\n",
    "    }\n",
    ").plot.hist(alpha=0.7, bins=15)"
   ]
  },
  {
   "cell_type": "code",
   "execution_count": 349,
   "metadata": {
    "id": "xfmwjGPfWvul"
   },
   "outputs": [],
   "source": [
    "def price_func(s, k):\n",
    "  # s y k vectores\n",
    "  return max(s-k, 0)"
   ]
  },
  {
   "cell_type": "code",
   "execution_count": 357,
   "metadata": {},
   "outputs": [
    {
     "data": {
      "text/plain": [
       "0.025777267292141914"
      ]
     },
     "execution_count": 357,
     "metadata": {},
     "output_type": "execute_result"
    }
   ],
   "source": [
    "best_loss"
   ]
  }
 ],
 "metadata": {
  "colab": {
   "name": "neural_options.ipynb",
   "provenance": []
  },
  "kernelspec": {
   "display_name": "ancufi",
   "language": "python",
   "name": "ancufi"
  },
  "language_info": {
   "codemirror_mode": {
    "name": "ipython",
    "version": 3
   },
   "file_extension": ".py",
   "mimetype": "text/x-python",
   "name": "python",
   "nbconvert_exporter": "python",
   "pygments_lexer": "ipython3",
   "version": "3.8.10"
  }
 },
 "nbformat": 4,
 "nbformat_minor": 1
}
