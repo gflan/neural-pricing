{
 "cells": [
  {
   "cell_type": "code",
   "execution_count": 1,
   "metadata": {
    "colab": {
     "base_uri": "https://localhost:8080/"
    },
    "id": "N46EgiaRIuVy",
    "outputId": "855c6690-b626-48a2-a114-6b6b6c2755f6"
   },
   "outputs": [
    {
     "name": "stdout",
     "output_type": "stream",
     "text": [
      "Requirement already satisfied: torchsde in /home/gflan/.cache/pypoetry/virtualenvs/ancufi--w791oWn-py3.8/lib/python3.8/site-packages (0.2.5)\n",
      "Requirement already satisfied: numpy>=1.19.* in /home/gflan/.cache/pypoetry/virtualenvs/ancufi--w791oWn-py3.8/lib/python3.8/site-packages (from torchsde) (1.23.1)\n",
      "Requirement already satisfied: torch>=1.6.0 in /home/gflan/.cache/pypoetry/virtualenvs/ancufi--w791oWn-py3.8/lib/python3.8/site-packages (from torchsde) (1.12.0)\n",
      "Requirement already satisfied: trampoline>=0.1.2 in /home/gflan/.cache/pypoetry/virtualenvs/ancufi--w791oWn-py3.8/lib/python3.8/site-packages (from torchsde) (0.1.2)\n",
      "Requirement already satisfied: boltons>=20.2.1 in /home/gflan/.cache/pypoetry/virtualenvs/ancufi--w791oWn-py3.8/lib/python3.8/site-packages (from torchsde) (21.0.0)\n",
      "Requirement already satisfied: scipy>=1.5 in /home/gflan/.cache/pypoetry/virtualenvs/ancufi--w791oWn-py3.8/lib/python3.8/site-packages (from torchsde) (1.6.1)\n",
      "Requirement already satisfied: typing-extensions in /home/gflan/.cache/pypoetry/virtualenvs/ancufi--w791oWn-py3.8/lib/python3.8/site-packages (from torch>=1.6.0->torchsde) (4.3.0)\n",
      "\n",
      "\u001b[1m[\u001b[0m\u001b[34;49mnotice\u001b[0m\u001b[1;39;49m]\u001b[0m\u001b[39;49m A new release of pip available: \u001b[0m\u001b[31;49m22.1.2\u001b[0m\u001b[39;49m -> \u001b[0m\u001b[32;49m22.2.1\u001b[0m\n",
      "\u001b[1m[\u001b[0m\u001b[34;49mnotice\u001b[0m\u001b[1;39;49m]\u001b[0m\u001b[39;49m To update, run: \u001b[0m\u001b[32;49mpip install --upgrade pip\u001b[0m\n"
     ]
    }
   ],
   "source": [
    "!poetry run python -m pip install torchsde"
   ]
  },
  {
   "cell_type": "code",
   "execution_count": 2,
   "metadata": {},
   "outputs": [
    {
     "name": "stdout",
     "output_type": "stream",
     "text": [
      "pip 22.1.2 from /home/gflan/.cache/pypoetry/virtualenvs/ancufi--w791oWn-py3.8/lib/python3.8/site-packages/pip (python 3.8)\r\n"
     ]
    }
   ],
   "source": [
    "!poetry run python -m pip -V"
   ]
  },
  {
   "cell_type": "code",
   "execution_count": 4,
   "metadata": {
    "id": "bSN8wJPZIVbg"
   },
   "outputs": [],
   "source": [
    "import torch\n",
    "from torch import nn\n",
    "import torchsde\n",
    "import numpy as np\n",
    "\n",
    "import os\n",
    "import sys\n",
    "import tqdm"
   ]
  },
  {
   "cell_type": "code",
   "execution_count": 5,
   "metadata": {
    "colab": {
     "base_uri": "https://localhost:8080/"
    },
    "id": "OMBtdiaYz2rv",
    "outputId": "b9090f12-6122-42eb-a079-54fc2e1bdc86"
   },
   "outputs": [
    {
     "name": "stdout",
     "output_type": "stream",
     "text": [
      "Warning: CUDA not available; falling back to CPU but this is likely to be very slow.\n"
     ]
    }
   ],
   "source": [
    "is_cuda = torch.cuda.is_available()\n",
    "# is_cuda = False\n",
    "device = 'cuda' if is_cuda else 'cpu'\n",
    "if not is_cuda:\n",
    "    print(\"Warning: CUDA not available; falling back to CPU but this is likely to be very slow.\")"
   ]
  },
  {
   "cell_type": "markdown",
   "metadata": {
    "id": "XfLIz21JVll3"
   },
   "source": [
    "Nuestro modelo, drift y difussion son redes neuronales que vamos a entrenar."
   ]
  },
  {
   "cell_type": "code",
   "execution_count": 8,
   "metadata": {},
   "outputs": [],
   "source": [
    "class MLP(torch.nn.Module):\n",
    "    def __init__(self, in_size, out_size, mlp_size, num_layers, tanh):\n",
    "        super().__init__()        \n",
    "        \n",
    "        activation = lambda : torch.nn.Tanh() if tanh else torch.nn.LeakyReLU(0.01) \n",
    "        model = [\n",
    "            torch.nn.Linear(in_size, mlp_size),\n",
    "            activation()\n",
    "        ]\n",
    "        for _ in range(num_layers - 1):\n",
    "            model.append(torch.nn.Linear(mlp_size, mlp_size))\n",
    "            model.append(activation())\n",
    "        model.append(torch.nn.Linear(mlp_size, out_size))\n",
    "\n",
    "        self._model = torch.nn.Sequential(*model)\n",
    "\n",
    "    def forward(self, x):\n",
    "        return self._model(x)"
   ]
  },
  {
   "cell_type": "code",
   "execution_count": 9,
   "metadata": {
    "id": "5_03s6FWIzLP"
   },
   "outputs": [],
   "source": [
    "class SDE(torch.nn.Module):\n",
    "    noise_type = 'diagonal'\n",
    "    sde_type = 'ito'\n",
    "\n",
    "    def __init__(self, state_size=1, batch_size=32, mlp_size=100, num_layers=3, tanh=False):\n",
    "        super().__init__()\n",
    "        \n",
    "        in_size = 2 * state_size # S(t) y t\n",
    "        out_size = state_size # drift o difusion final\n",
    "        mu_sigma_args = dict(\n",
    "            in_size=in_size,\n",
    "            out_size=out_size,\n",
    "            mlp_size=mlp_size, \n",
    "            num_layers=num_layers,\n",
    "            tanh=tanh\n",
    "        )\n",
    "        self.mu = MLP(**mu_sigma_args)\n",
    "        self.sigma = MLP(**mu_sigma_args)\n",
    "\n",
    "    # Drift\n",
    "    def f(self, t, y):\n",
    "        # forward prop de la f\n",
    "        # armar un tensor de batch_size componentes con el tiempo t\n",
    "        batch_t = torch.full((batch_size,1), t.item())\n",
    "        # mu([\n",
    "        #     (y_0, t), \n",
    "        #     (y_1, t),\n",
    "        #     .. \n",
    "        #     (y_n, t) <--- n = batch_size\n",
    "        # ]) \n",
    "        return self.mu(torch.cat((y, batch_t), dim=1))  # shape (batch_size, state_size)\n",
    "\n",
    "    # Diffusion\n",
    "    def g(self, t, y):\n",
    "        # idem mu\n",
    "        batch_t = torch.full((batch_size,1), t.item())\n",
    "        return self.sigma(torch.cat((y, batch_t), dim=1))\n",
    "\n",
    "# sde = SDE().to(device)"
   ]
  },
  {
   "cell_type": "markdown",
   "metadata": {
    "id": "tg9PLTdcTjoZ"
   },
   "source": [
    "Browniano Geométrico como benchmark conocido"
   ]
  },
  {
   "cell_type": "code",
   "execution_count": 10,
   "metadata": {
    "id": "TbdcynUYHGkQ"
   },
   "outputs": [],
   "source": [
    "class BGM_SDE(nn.Module):\n",
    "\n",
    "    def __init__(self, mu, sigma):\n",
    "        super().__init__()\n",
    "        self.noise_type=\"diagonal\"\n",
    "        self.sde_type = \"ito\"\n",
    "\n",
    "        self.mu = mu\n",
    "        self.sigma = sigma\n",
    "\n",
    "    def f(self, t, y):\n",
    "        return self.mu * y\n",
    "\n",
    "    def g(self, t, y):\n",
    "        return self.sigma * y"
   ]
  },
  {
   "cell_type": "markdown",
   "metadata": {
    "id": "-ZeAy7nETak6"
   },
   "source": [
    "## Earth Mover's Distance"
   ]
  },
  {
   "cell_type": "code",
   "execution_count": 128,
   "metadata": {
    "id": "-1a-pHa-OgZR"
   },
   "outputs": [],
   "source": [
    "def emd(p, q, steps=11):\n",
    "    quantiles = torch.linspace(0, 1, steps=steps) \n",
    "    # tensor([0.0000, 0.1000, 0.2000, 0.3000, 0.4000, 0.5000, 0.6000, 0.7000, 0.8000, 0.9000, 1.0000])\n",
    "    quantiles = torch.linspace(0, 1, steps=steps) \n",
    "    p_q = torch.quantile(p, quantiles, dim=1, keepdim=True)\n",
    "    q_q = torch.quantile(q, quantiles, dim=1, keepdim=True)\n",
    "\n",
    "    # sumo todas las diferencias quartil a quartil \n",
    "    return torch.abs(p_q - q_q).sum(dim=0).div(steps)"
   ]
  },
  {
   "cell_type": "code",
   "execution_count": 139,
   "metadata": {
    "colab": {
     "base_uri": "https://localhost:8080/"
    },
    "id": "V906VPN3fdLl",
    "outputId": "cddb24a7-d9ea-4943-adf8-24b41f88361f"
   },
   "outputs": [
    {
     "name": "stdout",
     "output_type": "stream",
     "text": [
      "torch.Size([5, 300, 1])\n",
      "tensor([0.9703, 1.1266, 0.9261, 1.1032, 1.0250], grad_fn=<SelectBackward0>) tensor(1.0302, grad_fn=<MeanBackward0>)\n"
     ]
    }
   ],
   "source": [
    "# Dos normales con misma varianza y un shift de una unidad de media, emd ~= 1 \n",
    "\n",
    "p = torch.normal(mean=1, std=1, size=(5,300,1), requires_grad=True)\n",
    "q = torch.normal(mean=0, std=1, size=(5,300,1), requires_grad=True)\n",
    "print(p.shape) # (cantidad de instantes, tamaño del batch, cantidad de 'estados')\n",
    "\n",
    "res = emd(p, q, steps=51)\n",
    "print(res[:, 0, 0], res.mean())\n",
    "del res, p, q"
   ]
  },
  {
   "cell_type": "markdown",
   "metadata": {
    "id": "WWQCMiRMZBvC"
   },
   "source": [
    "### TorchSDE"
   ]
  },
  {
   "cell_type": "code",
   "execution_count": 191,
   "metadata": {
    "id": "-3qaiVpPJD2v"
   },
   "outputs": [
    {
     "data": {
      "text/plain": [
       "tensor([[[3.0000],\n",
       "         [3.0000],\n",
       "         [3.0000],\n",
       "         [3.0000],\n",
       "         [3.0000],\n",
       "         [3.0000],\n",
       "         [3.0000],\n",
       "         [3.0000],\n",
       "         [3.0000],\n",
       "         [3.0000]],\n",
       "\n",
       "        [[2.9958],\n",
       "         [2.9826],\n",
       "         [2.9772],\n",
       "         [3.0000],\n",
       "         [3.0124],\n",
       "         [2.9920],\n",
       "         [2.9940],\n",
       "         [3.0122],\n",
       "         [2.9903],\n",
       "         [2.9795]],\n",
       "\n",
       "        [[2.9878],\n",
       "         [2.9731],\n",
       "         [2.9687],\n",
       "         [2.9923],\n",
       "         [3.0050],\n",
       "         [2.9877],\n",
       "         [2.9817],\n",
       "         [3.0024],\n",
       "         [2.9807],\n",
       "         [2.9685]]])"
      ]
     },
     "execution_count": 191,
     "metadata": {},
     "output_type": "execute_result"
    }
   ],
   "source": [
    "# y0 dimension (batch_size, state_size) da el valor inicial de la SDE en tiempo ts[0]\n",
    "brownian_size, batch_size, state_size,  = 3, 200, 1\n",
    "y0 = torch.full((batch_size, state_size), 3)\n",
    "ts = torch.linspace(0, 1, brownian_size)\n",
    "\n",
    "sde = SDE(state_size=state_size, batch_size=batch_size, mlp_size=100, num_layers=3, tanh=False).to(device)\n",
    "bgm = BGM_SDE(mu=.25, sigma=.01)\n",
    "\n",
    "bm = torchsde.BrownianInterval(t0=0, t1=1, size=(batch_size, state_size), device=device)\n",
    "\n",
    "with torch.no_grad():\n",
    "    # Initial state y0, the SDE is solved over the interval [ts[0], ts[-1]].\n",
    "    # ys will have shape (t_size, batch_size, state_size)\n",
    "    ys = torchsde.sdeint(sde, y0, ts, method=\"euler\", bm=bm)        \n",
    "    ys_bgm = torchsde.sdeint(bgm, y0, ts, method=\"euler\", bm=bm)    \n",
    "ys[:, :10, :]"
   ]
  },
  {
   "cell_type": "code",
   "execution_count": 199,
   "metadata": {
    "scrolled": true
   },
   "outputs": [
    {
     "name": "stdout",
     "output_type": "stream",
     "text": [
      "torch.Size([3, 200, 1])\n"
     ]
    },
    {
     "data": {
      "text/plain": [
       "tensor([[[0.0000]],\n",
       "\n",
       "        [[0.4077]],\n",
       "\n",
       "        [[0.8696]]])"
      ]
     },
     "execution_count": 199,
     "metadata": {},
     "output_type": "execute_result"
    }
   ],
   "source": [
    "print(ys.shape) # (brownian_size, batch_size, state_size)\n",
    "\n",
    "distance = emd(ys_bgm, ys, steps=51)\n",
    "distance"
   ]
  },
  {
   "cell_type": "code",
   "execution_count": 198,
   "metadata": {},
   "outputs": [
    {
     "data": {
      "text/plain": [
       "<AxesSubplot:ylabel='Frequency'>"
      ]
     },
     "execution_count": 198,
     "metadata": {},
     "output_type": "execute_result"
    },
    {
     "data": {
      "image/png": "[encoded data removed]",
      "text/plain": [
       "<Figure size 432x288 with 1 Axes>"
      ]
     },
     "metadata": {
      "needs_background": "light"
     },
     "output_type": "display_data"
    }
   ],
   "source": [
    "import pandas as pd\n",
    "pd.DataFrame(\n",
    "    {\n",
    "        \"bgm\": ys_bgm[-1,:,0].numpy(),\n",
    "        \"sde\": ys[-1,:,0].numpy()\n",
    "    }\n",
    ").plot.hist(alpha=0.7, bins=25)"
   ]
  },
  {
   "cell_type": "code",
   "execution_count": 184,
   "metadata": {},
   "outputs": [],
   "source": [
    "torchsde.sdeint?"
   ]
  },
  {
   "cell_type": "code",
   "execution_count": 243,
   "metadata": {},
   "outputs": [
    {
     "name": "stdout",
     "output_type": "stream",
     "text": [
      "Starting from zero!\n"
     ]
    }
   ],
   "source": [
    "# cargar estados anteriores para iterar por partes\n",
    "try:\n",
    "    sde.load_state_dict(torch.load(\"./state\"))\n",
    "    best_st = pd.read_csv(\"best_st.csv\", index_col=[0]).iloc[:,0].values.tolist()\n",
    "    best_rt = pd.read_csv(\"best_rt.csv\", index_col=[0]).iloc[:,0].values.tolist()\n",
    "    losses = pd.read_csv(\"losses.csv\", index_col=[0]).iloc[:,0].values.tolist()\n",
    "    best_loss = min(losses)\n",
    "except: \n",
    "    print(\"Starting from zero!\")\n",
    "    losses = []\n",
    "    best_st = best_rt =  None \n",
    "    best_loss = np.inf"
   ]
  },
  {
   "cell_type": "code",
   "execution_count": null,
   "metadata": {
    "colab": {
     "base_uri": "https://localhost:8080/",
     "height": 131
    },
    "id": "WXyL7_rHzFEp",
    "outputId": "1267141f-d850-45c6-d003-b0af657e08ef"
   },
   "outputs": [
    {
     "name": "stderr",
     "output_type": "stream",
     "text": [
      " 60%|█████████████████████████████████████████████████████████                                      | 3/5 [00:11<00:07,  3.83s/it]"
     ]
    }
   ],
   "source": [
    "steps = 300\n",
    "steps = 5\n",
    "ts = torch.linspace(0, 1, 11)\n",
    "batch_size = 200\n",
    "\n",
    "a, b = .25, .01 # µ y σ del BGM\n",
    "sde = SDE(state_size=state_size, batch_size=batch_size, mlp_size=100, num_layers=2, tanh=False).to(device)\n",
    "gbm = BGM_SDE(mu=a, sigma=b).to(device)\n",
    "opt = torch.optim.Adam(sde.parameters(), lr=0.1)\n",
    "\n",
    "y0 = torch.full((batch_size, state_size), 3)\n",
    "trange = tqdm.tqdm(range(steps))\n",
    "for step in trange:\n",
    "    # Nuevo batch, grad en 0\n",
    "    opt.zero_grad()\n",
    "    \n",
    "    # generar traza del GBM\n",
    "    bm = torchsde.BrownianInterval(t0=0, t1=1, size=(batch_size, state_size), device=device)  \n",
    "    st = torchsde.sdeint(gbm, y0, ts, method='euler', bm=bm)\n",
    "    \n",
    "    # generar traza de nuestra SDE\n",
    "    bm = torchsde.BrownianInterval(t0=0, t1=1, size=(batch_size, state_size), device=device)  \n",
    "    rt = torchsde.sdeint(sde, y0, ts, method='euler', bm=bm) # (brownian_size, batch_size, state_size)?\n",
    "\n",
    "    # agarrar las ultimas para comparar\n",
    "    wasserstein_loss = emd(st, rt, steps=51).mean()\n",
    "    \n",
    "    if best_loss > wasserstein_loss.item():\n",
    "        best_st = st[-1,:,0].detach().numpy() \n",
    "        best_rt = rt[-1,:,0].detach().numpy()\n",
    "        best_loss = wasserstein_loss.item()\n",
    "    \n",
    "    losses.append(wasserstein_loss.item())\n",
    "    # Computar grad\n",
    "    wasserstein_loss.backward()\n",
    "    # Optimizar sobre el batch\n",
    "    opt.step()\n"
   ]
  },
  {
   "cell_type": "code",
   "execution_count": 427,
   "metadata": {},
   "outputs": [],
   "source": [
    "torch.save(sde.state_dict(), \"./state\")\n",
    "pd.Series(best_st).to_csv(\"best_st.csv\")\n",
    "pd.Series(best_rt).to_csv(\"best_rt.csv\")\n",
    "pd.Series(losses).to_csv(\"losses.csv\")"
   ]
  },
  {
   "cell_type": "code",
   "execution_count": 241,
   "metadata": {},
   "outputs": [
    {
     "data": {
      "text/plain": [
       "<AxesSubplot:>"
      ]
     },
     "execution_count": 241,
     "metadata": {},
     "output_type": "execute_result"
    },
    {
     "data": {
      "image/png": "[encoded data removed]",
      "text/plain": [
       "<Figure size 432x288 with 1 Axes>"
      ]
     },
     "metadata": {
      "needs_background": "light"
     },
     "output_type": "display_data"
    }
   ],
   "source": [
    "pd.Series(losses).plot()"
   ]
  },
  {
   "cell_type": "code",
   "execution_count": 239,
   "metadata": {},
   "outputs": [
    {
     "data": {
      "text/plain": [
       "<AxesSubplot:>"
      ]
     },
     "execution_count": 239,
     "metadata": {},
     "output_type": "execute_result"
    },
    {
     "data": {
      "image/png": "[encoded data removed]",
      "text/plain": [
       "<Figure size 432x288 with 1 Axes>"
      ]
     },
     "metadata": {
      "needs_background": "light"
     },
     "output_type": "display_data"
    }
   ],
   "source": [
    "pd.Series(losses).rolling(5).mean().plot()"
   ]
  },
  {
   "cell_type": "code",
   "execution_count": 464,
   "metadata": {},
   "outputs": [
    {
     "data": {
      "text/plain": [
       "8.304627418518066"
      ]
     },
     "execution_count": 464,
     "metadata": {},
     "output_type": "execute_result"
    }
   ],
   "source": [
    "best_loss"
   ]
  },
  {
   "cell_type": "code",
   "execution_count": 218,
   "metadata": {},
   "outputs": [
    {
     "data": {
      "text/plain": [
       "<AxesSubplot:ylabel='Frequency'>"
      ]
     },
     "execution_count": 218,
     "metadata": {},
     "output_type": "execute_result"
    },
    {
     "data": {
      "image/png": "[encoded data removed]",
      "text/plain": [
       "<Figure size 432x288 with 1 Axes>"
      ]
     },
     "metadata": {
      "needs_background": "light"
     },
     "output_type": "display_data"
    }
   ],
   "source": [
    "pd.DataFrame(\n",
    "    {\n",
    "        \"bgm\": best_st,\n",
    "        \"sde\": best_rt\n",
    "    }\n",
    ").plot.hist(alpha=0.7, bins=50)"
   ]
  },
  {
   "cell_type": "code",
   "execution_count": 368,
   "metadata": {},
   "outputs": [
    {
     "data": {
      "text/plain": [
       "count       200.000000\n",
       "mean      13455.070312\n",
       "std       30117.035156\n",
       "min           3.530167\n",
       "25%         951.140167\n",
       "50%        3019.674072\n",
       "75%       10720.533203\n",
       "max      222529.781250\n",
       "dtype: float64"
      ]
     },
     "execution_count": 368,
     "metadata": {},
     "output_type": "execute_result"
    }
   ],
   "source": [
    "pd.Series(best_st).describe()"
   ]
  },
  {
   "cell_type": "code",
   "execution_count": 257,
   "metadata": {},
   "outputs": [],
   "source": [
    "sde.f = lambda x,y: 0*x*y"
   ]
  },
  {
   "cell_type": "code",
   "execution_count": 451,
   "metadata": {},
   "outputs": [
    {
     "name": "stderr",
     "output_type": "stream",
     "text": [
      "100%|█████████████████████████████████████████████████████████████████████████████████████████████████████████████████| 20/20 [00:46<00:00,  2.32s/it]\n"
     ]
    }
   ],
   "source": [
    "sts = rts = np.array([])\n",
    "with torch.no_grad():\n",
    "    for i in tqdm.tqdm(range(20)):\n",
    "        y0 = torch.randn(batch_size, state_size, device=device) + 140\n",
    "        bm_ = torchsde.BrownianInterval(t0=0, t1=1, size=(batch_size, state_size), device=device)  \n",
    "        st = torchsde.sdeint(gbm, y0, ts, method='euler', bm=bm)\n",
    "        bm = torchsde.BrownianInterval(t0=0, t1=1, size=(batch_size, state_size), device=device)  \n",
    "        rt = torchsde.sdeint(sde, y0, ts, method='euler', bm=bm) # (brownian_size, batch_size, state_size)?\n",
    "        sts = np.append(sts, st[-1:, :, :][0,:,0].detach().numpy())\n",
    "        rts = np.append(rts, rt[-1:, :, :][0,:,0].detach().numpy())"
   ]
  },
  {
   "cell_type": "code",
   "execution_count": 452,
   "metadata": {},
   "outputs": [
    {
     "data": {
      "text/plain": [
       "<AxesSubplot:ylabel='Frequency'>"
      ]
     },
     "execution_count": 452,
     "metadata": {},
     "output_type": "execute_result"
    },
    {
     "data": {
      "image/png": "[encoded data removed]",
      "text/plain": [
       "<Figure size 432x288 with 1 Axes>"
      ]
     },
     "metadata": {
      "needs_background": "light"
     },
     "output_type": "display_data"
    }
   ],
   "source": [
    "pd.DataFrame(\n",
    "    {\n",
    "        \"bgm\": sts,\n",
    "        \"sde\": rts\n",
    "    }\n",
    ").plot.hist(alpha=0.7, bins=15)"
   ]
  },
  {
   "cell_type": "code",
   "execution_count": 349,
   "metadata": {
    "id": "xfmwjGPfWvul"
   },
   "outputs": [],
   "source": [
    "def price_func(s, k):\n",
    "  # s y k vectores\n",
    "  return max(s-k, 0)"
   ]
  },
  {
   "cell_type": "code",
   "execution_count": 357,
   "metadata": {},
   "outputs": [
    {
     "data": {
      "text/plain": [
       "0.025777267292141914"
      ]
     },
     "execution_count": 357,
     "metadata": {},
     "output_type": "execute_result"
    }
   ],
   "source": [
    "best_loss"
   ]
  }
 ],
 "metadata": {
  "colab": {
   "name": "neural_options.ipynb",
   "provenance": []
  },
  "kernelspec": {
   "display_name": "ancufi",
   "language": "python",
   "name": "ancufi"
  },
  "language_info": {
   "codemirror_mode": {
    "name": "ipython",
    "version": 3
   },
   "file_extension": ".py",
   "mimetype": "text/x-python",
   "name": "python",
   "nbconvert_exporter": "python",
   "pygments_lexer": "ipython3",
   "version": "3.8.10"
  }
 },
 "nbformat": 4,
 "nbformat_minor": 1
}
