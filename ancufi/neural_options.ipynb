{
 "cells": [
  {
   "cell_type": "code",
   "execution_count": 4,
   "metadata": {
    "colab": {
     "base_uri": "https://localhost:8080/"
    },
    "id": "N46EgiaRIuVy",
    "outputId": "855c6690-b626-48a2-a114-6b6b6c2755f6"
   },
   "outputs": [
    {
     "name": "stdout",
     "output_type": "stream",
     "text": [
      "Requirement already satisfied: torchsde in /home/gflan/.cache/pypoetry/virtualenvs/ancufi--w791oWn-py3.8/lib/python3.8/site-packages (0.2.5)\n",
      "Requirement already satisfied: torch>=1.6.0 in /home/gflan/.cache/pypoetry/virtualenvs/ancufi--w791oWn-py3.8/lib/python3.8/site-packages (from torchsde) (1.12.0)\n",
      "Requirement already satisfied: trampoline>=0.1.2 in /home/gflan/.cache/pypoetry/virtualenvs/ancufi--w791oWn-py3.8/lib/python3.8/site-packages (from torchsde) (0.1.2)\n",
      "Requirement already satisfied: numpy>=1.19.* in /home/gflan/.cache/pypoetry/virtualenvs/ancufi--w791oWn-py3.8/lib/python3.8/site-packages (from torchsde) (1.23.1)\n",
      "Requirement already satisfied: boltons>=20.2.1 in /home/gflan/.cache/pypoetry/virtualenvs/ancufi--w791oWn-py3.8/lib/python3.8/site-packages (from torchsde) (21.0.0)\n",
      "Requirement already satisfied: scipy>=1.5 in /home/gflan/.cache/pypoetry/virtualenvs/ancufi--w791oWn-py3.8/lib/python3.8/site-packages (from torchsde) (1.6.1)\n",
      "Requirement already satisfied: typing-extensions in /home/gflan/.cache/pypoetry/virtualenvs/ancufi--w791oWn-py3.8/lib/python3.8/site-packages (from torch>=1.6.0->torchsde) (4.3.0)\n",
      "\n",
      "\u001b[1m[\u001b[0m\u001b[34;49mnotice\u001b[0m\u001b[1;39;49m]\u001b[0m\u001b[39;49m A new release of pip available: \u001b[0m\u001b[31;49m22.2\u001b[0m\u001b[39;49m -> \u001b[0m\u001b[32;49m22.2.1\u001b[0m\n",
      "\u001b[1m[\u001b[0m\u001b[34;49mnotice\u001b[0m\u001b[1;39;49m]\u001b[0m\u001b[39;49m To update, run: \u001b[0m\u001b[32;49mpip install --upgrade pip\u001b[0m\n"
     ]
    }
   ],
   "source": [
    "!poetry run python -m pip install torchsde"
   ]
  },
  {
   "cell_type": "code",
   "execution_count": 3,
   "metadata": {},
   "outputs": [
    {
     "name": "stdout",
     "output_type": "stream",
     "text": [
      "pip 22.2 from /home/gflan/.cache/pypoetry/virtualenvs/ancufi--w791oWn-py3.8/lib/python3.8/site-packages/pip (python 3.8)\r\n"
     ]
    }
   ],
   "source": [
    "!poetry run python -m pip -V"
   ]
  },
  {
   "cell_type": "code",
   "execution_count": 5,
   "metadata": {
    "id": "bSN8wJPZIVbg"
   },
   "outputs": [],
   "source": [
    "import torch\n",
    "from torch import nn\n",
    "import torchsde\n",
    "import numpy as np\n",
    "\n",
    "import os\n",
    "import sys\n",
    "import tqdm"
   ]
  },
  {
   "cell_type": "code",
   "execution_count": 6,
   "metadata": {
    "colab": {
     "base_uri": "https://localhost:8080/"
    },
    "id": "OMBtdiaYz2rv",
    "outputId": "b9090f12-6122-42eb-a079-54fc2e1bdc86"
   },
   "outputs": [
    {
     "name": "stdout",
     "output_type": "stream",
     "text": [
      "Warning: CUDA not available; falling back to CPU but this is likely to be very slow.\n"
     ]
    }
   ],
   "source": [
    "is_cuda = torch.cuda.is_available()\n",
    "# is_cuda = False\n",
    "device = 'cuda' if is_cuda else 'cpu'\n",
    "if not is_cuda:\n",
    "    print(\"Warning: CUDA not available; falling back to CPU but this is likely to be very slow.\")"
   ]
  },
  {
   "cell_type": "markdown",
   "metadata": {
    "id": "XfLIz21JVll3"
   },
   "source": [
    "Nuestro modelo, drift y difussion son redes neuronales que vamos a entrenar."
   ]
  },
  {
   "cell_type": "code",
   "execution_count": 339,
   "metadata": {},
   "outputs": [],
   "source": [
    "class MLP(torch.nn.Module):\n",
    "    def __init__(self, in_size, out_size, mlp_size, num_layers, tanh):\n",
    "        super().__init__()\n",
    "\n",
    "        model = [\n",
    "            torch.nn.Linear(in_size, mlp_size),\n",
    "            torch.nn.LeakyReLU(0.01),\n",
    "#             torch.nn.Tanh()\n",
    "        ]\n",
    "        for _ in range(num_layers - 1):\n",
    "            model.append(torch.nn.Linear(mlp_size, mlp_size))\n",
    "            model.append(torch.nn.Tanh())\n",
    "        model.append(torch.nn.Linear(mlp_size, out_size))\n",
    "        if tanh:\n",
    "            model.append(torch.nn.Tanh())\n",
    "        self._model = torch.nn.Sequential(*model)\n",
    "\n",
    "    def forward(self, x):\n",
    "        return self._model(x)"
   ]
  },
  {
   "cell_type": "code",
   "execution_count": 340,
   "metadata": {
    "id": "5_03s6FWIzLP"
   },
   "outputs": [],
   "source": [
    "class SDE(torch.nn.Module):\n",
    "    noise_type = 'diagonal'\n",
    "    sde_type = 'ito'\n",
    "\n",
    "    def __init__(self, state_size=1, batch_size=32, mlp_size=100, num_layers=3, tanh=False):\n",
    "        super().__init__()\n",
    "        \n",
    "        in_size = 2 * state_size # S(t) y t\n",
    "        out_size = state_size # drift o difusion final\n",
    "        mu_sigma_args = dict(\n",
    "            in_size=in_size,\n",
    "            out_size=out_size,\n",
    "            mlp_size=mlp_size, \n",
    "            num_layers=num_layers,\n",
    "            tanh=tanh\n",
    "        )\n",
    "        self.mu = MLP(**mu_sigma_args)\n",
    "        self.sigma = MLP(**mu_sigma_args)\n",
    "\n",
    "    # Drift\n",
    "    def f(self, t, y):\n",
    "        # armar un tensor de batch_size componentes con el tiempo t\n",
    "        batch_t = torch.full((batch_size,1), t.item())\n",
    "        # forward prop de la f\n",
    "        # mu([\n",
    "        #     (y_0, t), \n",
    "        #     (y_1, t),\n",
    "        #     .. \n",
    "        #     (y_n, t) <--- n = batch_size\n",
    "        # ]) \n",
    "        return self.mu(torch.cat((y, batch_t), dim=1))  # shape (batch_size, state_size)\n",
    "\n",
    "    # Diffusion\n",
    "    def g(self, t, y):\n",
    "        # idem mu\n",
    "        batch_t = torch.full((batch_size,1), t.item())\n",
    "        return self.sigma(torch.cat((y, batch_t), dim=1))\n",
    "\n",
    "# sde = SDE().to(device)"
   ]
  },
  {
   "cell_type": "markdown",
   "metadata": {
    "id": "tg9PLTdcTjoZ"
   },
   "source": [
    "Browniano Geométrico como benchmark conocido"
   ]
  },
  {
   "cell_type": "code",
   "execution_count": 81,
   "metadata": {
    "id": "TbdcynUYHGkQ"
   },
   "outputs": [],
   "source": [
    "class BGM_SDE(nn.Module):\n",
    "\n",
    "    def __init__(self, mu, sigma):\n",
    "        super().__init__()\n",
    "        self.noise_type=\"diagonal\"\n",
    "        self.sde_type = \"ito\"\n",
    "\n",
    "        self.mu = mu\n",
    "        self.sigma = sigma\n",
    "\n",
    "    def f(self, t, y):\n",
    "        return self.mu * y\n",
    "\n",
    "    def g(self, t, y):\n",
    "        return self.sigma * y"
   ]
  },
  {
   "cell_type": "markdown",
   "metadata": {
    "id": "-ZeAy7nETak6"
   },
   "source": [
    "## Earth Mover's Distance"
   ]
  },
  {
   "cell_type": "code",
   "execution_count": 82,
   "metadata": {
    "id": "-1a-pHa-OgZR"
   },
   "outputs": [],
   "source": [
    "def emd(p, q, steps=11):\n",
    "  quantiles = torch.linspace(0, 1, steps=steps) \n",
    "  # tensor([0.0000, 0.1000, 0.2000, 0.3000, 0.4000, 0.5000, 0.6000, 0.7000, 0.8000, 0.9000, 1.0000])\n",
    "  p_q = torch.quantile(p, quantiles, dim=0, keepdim=True) # aproximacion numérica\n",
    "  q_q = torch.quantile(q, quantiles, dim=0, keepdim=True)\n",
    "\n",
    "  return torch.abs(p_q - q_q).sum().div(steps)"
   ]
  },
  {
   "cell_type": "code",
   "execution_count": 211,
   "metadata": {
    "colab": {
     "base_uri": "https://localhost:8080/"
    },
    "id": "V906VPN3fdLl",
    "outputId": "cddb24a7-d9ea-4943-adf8-24b41f88361f"
   },
   "outputs": [
    {
     "name": "stdout",
     "output_type": "stream",
     "text": [
      "tensor(1.0504, grad_fn=<DivBackward0>)\n"
     ]
    }
   ],
   "source": [
    "# Dos normales con misma varianza y un shift de una unidad, emd ~= 1 \n",
    "\n",
    "p = torch.normal(mean=1, std=1, size=(300,), requires_grad=True)\n",
    "q = torch.normal(mean=0, std=1, size=(300,), requires_grad=True)\n",
    "\n",
    "res = emd(p, q, steps=11)\n",
    "print(res)\n",
    "\n",
    "del res, p, q"
   ]
  },
  {
   "cell_type": "markdown",
   "metadata": {
    "id": "WWQCMiRMZBvC"
   },
   "source": [
    "### TorchSDE"
   ]
  },
  {
   "cell_type": "code",
   "execution_count": 278,
   "metadata": {
    "id": "-3qaiVpPJD2v"
   },
   "outputs": [],
   "source": [
    "# y0 dimension (batch_size, state_size) da el valor inicial de la SDE en tiempo ts[0]\n",
    "batch_size, state_size, brownian_size = 200, 1, 2\n",
    "y0 = torch.randn(batch_size, state_size, device=device) + 3\n",
    "ts = torch.linspace(0, 1, brownian_size)\n",
    "\n",
    "sde = SDE(state_size=state_size, batch_size=batch_size, mlp_size=100, num_layers=3, tanh=False).to(device)\n",
    "\n",
    "bm = torchsde.BrownianInterval(t0=0, t1=1, size=(batch_size, state_size), device=device)\n",
    "\n",
    "with torch.no_grad():\n",
    "    # Initial state y0, the SDE is solved over the interval [ts[0], ts[-1]].\n",
    "    # ys will have shape (t_size, batch_size, state_size)\n",
    "    ys = torchsde.sdeint(sde, y0, ts, method=\"euler\", bm=bm)        \n",
    "    ys_bgm = torchsde.sdeint(BGM_SDE(mu=5, sigma=1), y0, ts, method=\"euler\", bm=bm)    "
   ]
  },
  {
   "cell_type": "code",
   "execution_count": 185,
   "metadata": {
    "scrolled": true
   },
   "outputs": [
    {
     "name": "stdout",
     "output_type": "stream",
     "text": [
      "torch.Size([51, 200, 1])\n"
     ]
    },
    {
     "data": {
      "text/plain": [
       "tensor([ 131.6433, 1513.5986, 1382.3842,  312.5243, 1176.4165, 2665.2014,\n",
       "         588.3683,  116.3098,   59.6227,  989.2415,  152.4067,  195.4709,\n",
       "          37.5701,  388.2460,  190.8625,  276.2303,  240.4867,  107.3762,\n",
       "         156.0478,   36.2896,  563.5885,   68.7631,  231.2793,   81.9120,\n",
       "          70.8166,  245.1088,  232.9114,   95.7193,   97.7503,   72.2374,\n",
       "         764.7294,  161.3344, 1121.5210, 1052.8916, 1731.7841,  230.1408,\n",
       "        3018.8347,  125.9547, 2288.4651,  227.8098,  504.6454,  188.0315,\n",
       "          52.8953,   84.8800,  171.9406, 1024.6031,  223.3371,   87.5843,\n",
       "         250.8811,  188.9406,  250.4645,  339.3933,  142.1904, 2109.2192,\n",
       "         235.8447,  248.7401,  327.3354,  102.0925,  582.2659,  419.4371,\n",
       "          95.6439,  610.9681,  179.8131,  606.0002,  679.7093,   80.6000,\n",
       "         331.1133,  241.2989,  168.8495,  365.4901,  783.5859,  477.3808,\n",
       "         108.9219,  909.2392,   48.4304,  696.1393,  434.2520,  308.0728,\n",
       "         870.9852,  173.3569,   88.7406,  473.8256,  312.2731,   22.6213,\n",
       "         851.7166,  735.9777,  407.4356,   91.9690,  119.2294,  551.1243,\n",
       "         622.9387,  160.8580,  373.6534,  215.7725,  257.4107,  193.8677,\n",
       "          74.7346,  329.0814,   51.9458,  857.4589,  153.1951,   51.3610,\n",
       "         368.0953,   99.2662,   90.4681,  275.6535,  593.7741,  162.0307,\n",
       "         488.3519,  165.1060,  804.5965,   82.4324,  343.1357,  165.2701,\n",
       "          52.4277,  397.0093, 1308.8973, 2348.9814,  826.5378,  452.8143,\n",
       "         236.3949,   79.3805, 1810.1899,  245.2027,  190.5582,   46.0216,\n",
       "         168.9672,  474.8217,   28.2463,  797.8604,  260.2298,  427.8365,\n",
       "        1130.8679,   45.6773,  240.1575,  825.4316,   87.7582,  354.9615,\n",
       "         222.9503,  285.1935,  759.1975,  310.3762, 1048.7521,  126.8464,\n",
       "         248.5059,   91.2176,  204.6200,  487.9966, 1135.1521,  502.4714,\n",
       "         195.8455,  408.9050,  259.2336,  439.5745,  308.6609,  767.1387,\n",
       "          61.5842,   66.7535,  447.2348,  739.4387,  390.0173,  938.8966,\n",
       "          43.1448,  978.8559,  454.1900,  272.2677,  111.8773,  526.5608,\n",
       "         631.9667,   23.3877,  476.5796,  132.6585,   90.7380,  317.4951,\n",
       "          33.0583,  105.5738,   21.7080,  221.0808,  429.1707,  103.3048,\n",
       "         242.0702, 3196.5940,  995.8541,   37.8880,  324.3719,   70.8690,\n",
       "          64.0377,  101.0575,  169.5850,  388.7554,  346.9629,   28.9694,\n",
       "         155.0608,  679.0810,  280.2710,  335.8691,  351.8115,  769.7159,\n",
       "         274.6469,  143.8199])"
      ]
     },
     "execution_count": 185,
     "metadata": {},
     "output_type": "execute_result"
    }
   ],
   "source": [
    "print(ys.shape) # (brownian_size, batch_size, state_size)\n",
    "\n",
    "ys_bgm[-1,:,0] # final del browniano, todo el batch, primer (unico) estado"
   ]
  },
  {
   "cell_type": "code",
   "execution_count": 341,
   "metadata": {},
   "outputs": [
    {
     "data": {
      "text/plain": [
       "<AxesSubplot:ylabel='Frequency'>"
      ]
     },
     "execution_count": 341,
     "metadata": {},
     "output_type": "execute_result"
    },
    {
     "data": {
      "image/png": "[encoded data removed]",
      "text/plain": [
       "<Figure size 432x288 with 1 Axes>"
      ]
     },
     "metadata": {
      "needs_background": "light"
     },
     "output_type": "display_data"
    }
   ],
   "source": [
    "import pandas as pd\n",
    "pd.DataFrame(\n",
    "    {\n",
    "        \"bgm\": ys_bgm[-1,:,0].numpy(),\n",
    "#         \"sde\": ys[-1,:,0].numpy()\n",
    "    }\n",
    ").plot.hist(alpha=0.7, bins=10)"
   ]
  },
  {
   "cell_type": "code",
   "execution_count": 145,
   "metadata": {},
   "outputs": [
    {
     "data": {
      "text/plain": [
       "tensor(2.7549)"
      ]
     },
     "execution_count": 145,
     "metadata": {},
     "output_type": "execute_result"
    }
   ],
   "source": [
    "emd(ys[-1,:,0], ys_bgm[-1,:,0])"
   ]
  },
  {
   "cell_type": "code",
   "execution_count": 23,
   "metadata": {},
   "outputs": [],
   "source": [
    "torchsde.sdeint?"
   ]
  },
  {
   "cell_type": "code",
   "execution_count": null,
   "metadata": {
    "colab": {
     "base_uri": "https://localhost:8080/",
     "height": 131
    },
    "id": "WXyL7_rHzFEp",
    "outputId": "1267141f-d850-45c6-d003-b0af657e08ef"
   },
   "outputs": [
    {
     "name": "stderr",
     "output_type": "stream",
     "text": [
      "  0%|▍                                                                                                                | 2/500 [00:10<42:12,  5.09s/it]"
     ]
    }
   ],
   "source": [
    "steps = 500\n",
    "ts = torch.linspace(0, 1, 2)\n",
    "batch_size = 200\n",
    "\n",
    "a, b = .5, .2 # µ y σ del BGM\n",
    "sde = SDE(state_size=state_size, batch_size=batch_size, mlp_size=100, num_layers=3, tanh=True).to(device)\n",
    "gbm = BGM_SDE(mu=a, sigma=b).to(device)\n",
    "opt = torch.optim.SGD(sde.parameters(), lr=0.1, momentum=0.9)\n",
    "\n",
    "losses = []\n",
    "best_st = best_rt =  None \n",
    "best_loss = np.inf\n",
    "\n",
    "y0 = torch.full((batch_size, state_size), 140)\n",
    "\n",
    "trange = tqdm.tqdm(range(steps))\n",
    "for step in trange:\n",
    "    # Nuevo batch, grad en 0\n",
    "    opt.zero_grad()\n",
    "\n",
    "    #y0 = 10*torch.randn(batch_size, state_size, device=device) + 140\n",
    "    \n",
    "    \n",
    "    # generar traza del GBM\n",
    "    bm = torchsde.BrownianInterval(t0=0, t1=1, size=(batch_size, state_size), device=device)  \n",
    "    st = torchsde.sdeint(gbm, y0, ts, method='euler', bm=bm)\n",
    "    \n",
    "    # generar traza de nuestra SDE\n",
    "    bm = torchsde.BrownianInterval(t0=0, t1=1, size=(batch_size, state_size), device=device)  \n",
    "    rt = torchsde.sdeint(sde, y0, ts, method='euler', bm=bm) # (brownian_size, batch_size, state_size)?\n",
    "\n",
    "    # agarrar las ultimas para comparar\n",
    "    wasserstein_loss = emd(st[-1,:,0], rt[-1,:,0])\n",
    "    \n",
    "    if best_loss > wasserstein_loss.item():\n",
    "        best_st = st[-1,:,0].detach().numpy() \n",
    "        best_rt = rt[-1,:,0].detach().numpy()\n",
    "        best_loss = wasserstein_loss.item()\n",
    "    \n",
    "    losses.append(wasserstein_loss.item())\n",
    "    # Computar grad\n",
    "    wasserstein_loss.backward()\n",
    "    # Optimizar sobre el batch\n",
    "    opt.step()\n"
   ]
  },
  {
   "cell_type": "code",
   "execution_count": 348,
   "metadata": {},
   "outputs": [
    {
     "data": {
      "text/plain": [
       "<AxesSubplot:>"
      ]
     },
     "execution_count": 348,
     "metadata": {},
     "output_type": "execute_result"
    },
    {
     "data": {
      "image/png": "[encoded data removed]",
      "text/plain": [
       "<Figure size 432x288 with 1 Axes>"
      ]
     },
     "metadata": {
      "needs_background": "light"
     },
     "output_type": "display_data"
    }
   ],
   "source": [
    "pd.Series(losses).plot()"
   ]
  },
  {
   "cell_type": "code",
   "execution_count": 344,
   "metadata": {},
   "outputs": [
    {
     "data": {
      "text/plain": [
       "<AxesSubplot:>"
      ]
     },
     "execution_count": 344,
     "metadata": {},
     "output_type": "execute_result"
    },
    {
     "data": {
      "image/png": "[encoded data removed]",
      "text/plain": [
       "<Figure size 432x288 with 1 Axes>"
      ]
     },
     "metadata": {
      "needs_background": "light"
     },
     "output_type": "display_data"
    }
   ],
   "source": [
    "pd.Series(losses).rolling(15).mean().plot()"
   ]
  },
  {
   "cell_type": "code",
   "execution_count": 345,
   "metadata": {},
   "outputs": [
    {
     "data": {
      "text/plain": [
       "244.7371063232422"
      ]
     },
     "execution_count": 345,
     "metadata": {},
     "output_type": "execute_result"
    }
   ],
   "source": [
    "best_loss"
   ]
  },
  {
   "cell_type": "code",
   "execution_count": 349,
   "metadata": {},
   "outputs": [
    {
     "data": {
      "text/plain": [
       "<AxesSubplot:ylabel='Frequency'>"
      ]
     },
     "execution_count": 349,
     "metadata": {},
     "output_type": "execute_result"
    },
    {
     "data": {
      "image/png": "[encoded data removed]",
      "text/plain": [
       "<Figure size 432x288 with 1 Axes>"
      ]
     },
     "metadata": {
      "needs_background": "light"
     },
     "output_type": "display_data"
    }
   ],
   "source": [
    "pd.DataFrame(\n",
    "    {\n",
    "        \"bgm\": best_st,\n",
    "        \"sde\": best_rt\n",
    "    }\n",
    ").plot.hist(alpha=0.7, bins=30)"
   ]
  },
  {
   "cell_type": "code",
   "execution_count": 257,
   "metadata": {},
   "outputs": [],
   "source": [
    "sde.f = lambda x,y: 0*x*y"
   ]
  },
  {
   "cell_type": "code",
   "execution_count": 338,
   "metadata": {},
   "outputs": [
    {
     "data": {
      "text/plain": [
       "(Parameter containing:\n",
       " tensor([[ 0.4770,  0.4992],\n",
       "         [ 0.4418, -0.6174],\n",
       "         [-0.5773, -0.1682],\n",
       "         [ 0.2818, -0.1414],\n",
       "         [-0.0727,  0.1058],\n",
       "         [ 0.5735,  0.4675],\n",
       "         [ 0.3570,  0.3890],\n",
       "         [ 0.6097,  0.0633],\n",
       "         [ 0.5913, -0.2364],\n",
       "         [ 0.3688, -0.1900],\n",
       "         [-0.5841,  0.6386],\n",
       "         [-0.1114,  0.4189],\n",
       "         [-0.1001,  0.3157],\n",
       "         [ 0.3094,  0.2775],\n",
       "         [-0.2132,  0.0758],\n",
       "         [ 0.0747, -0.5870],\n",
       "         [ 0.5522, -0.6105],\n",
       "         [ 0.2443, -0.6280],\n",
       "         [-0.1729,  0.6690],\n",
       "         [-0.2144,  0.6027],\n",
       "         [-0.6978,  0.2279],\n",
       "         [-0.3065,  0.1819],\n",
       "         [ 0.2491, -0.0187],\n",
       "         [ 0.2758, -0.6417],\n",
       "         [ 0.2163, -0.6754],\n",
       "         [ 0.3433, -0.4769],\n",
       "         [-0.3953,  0.4141],\n",
       "         [-0.3352,  0.1795],\n",
       "         [-0.7030,  0.4744],\n",
       "         [-0.6785,  0.2800],\n",
       "         [ 0.1643, -0.5496],\n",
       "         [-0.1172,  0.5941],\n",
       "         [ 0.3533, -0.3728],\n",
       "         [-0.2254,  0.0329],\n",
       "         [ 0.5985, -0.2241],\n",
       "         [ 0.5336,  0.4546],\n",
       "         [ 0.7070,  0.5040],\n",
       "         [-0.6018, -0.1596],\n",
       "         [-0.2325,  0.5502],\n",
       "         [-0.5013, -0.4512],\n",
       "         [-0.6834, -0.1232],\n",
       "         [ 0.1853,  0.3967],\n",
       "         [-0.0788,  0.2743],\n",
       "         [-0.5271,  0.4038],\n",
       "         [ 0.2828,  0.6966],\n",
       "         [-0.2453, -0.1326],\n",
       "         [ 0.3770, -0.3508],\n",
       "         [-0.3394,  0.0180],\n",
       "         [-0.6891, -0.5833],\n",
       "         [ 0.6900,  0.3110],\n",
       "         [-0.6531,  0.0999],\n",
       "         [ 0.2882,  0.2583],\n",
       "         [-0.4337,  0.5368],\n",
       "         [-0.3579,  0.6371],\n",
       "         [ 0.4951,  0.3484],\n",
       "         [ 0.3224,  0.5159],\n",
       "         [ 0.6771, -0.5319],\n",
       "         [ 0.5731, -0.0941],\n",
       "         [-0.1443,  0.5055],\n",
       "         [-0.0971,  0.1599],\n",
       "         [ 0.5824,  0.5309],\n",
       "         [-0.5899,  0.6321],\n",
       "         [-0.1453, -0.4618],\n",
       "         [ 0.3145, -0.5114],\n",
       "         [-0.2724, -0.0521],\n",
       "         [-0.2198,  0.1584],\n",
       "         [-0.5072,  0.2888],\n",
       "         [-0.4084, -0.4923],\n",
       "         [-0.2992, -0.7273],\n",
       "         [-0.4105, -0.1524],\n",
       "         [ 0.6811, -0.4333],\n",
       "         [-0.2690, -0.2914],\n",
       "         [-0.2140, -0.0364],\n",
       "         [-0.4352, -0.7056],\n",
       "         [-0.3409, -0.3030],\n",
       "         [ 0.2738,  0.7635],\n",
       "         [-0.3468, -0.1478],\n",
       "         [ 0.0894,  0.0963],\n",
       "         [-0.1451,  0.1285],\n",
       "         [ 0.6211, -0.3585],\n",
       "         [-0.3008, -0.4873],\n",
       "         [-0.2931, -0.5050],\n",
       "         [-0.3524,  0.6062],\n",
       "         [ 0.5664,  0.2272],\n",
       "         [-0.5320,  0.0625],\n",
       "         [ 0.2979,  0.0657],\n",
       "         [-0.5536, -0.0759],\n",
       "         [-0.4958, -0.4133],\n",
       "         [ 0.4744,  0.3678],\n",
       "         [ 0.6167,  0.0413],\n",
       "         [ 0.2190, -0.2378],\n",
       "         [-0.5746, -0.6335],\n",
       "         [-0.5192, -0.1071],\n",
       "         [ 0.5458,  0.6893],\n",
       "         [-0.3376, -0.3659],\n",
       "         [ 0.2399, -0.4393],\n",
       "         [ 0.0722,  0.6929],\n",
       "         [-0.2553, -0.9792],\n",
       "         [ 0.5684, -0.5537],\n",
       "         [-0.6068, -0.6018]], requires_grad=True),\n",
       " Parameter containing:\n",
       " tensor([[ 0.6677, -0.4915],\n",
       "         [-0.1885, -0.1205],\n",
       "         [-0.2501,  0.2590],\n",
       "         [ 0.1591, -0.0716],\n",
       "         [ 0.3370,  0.0148],\n",
       "         [-0.2032,  0.2513],\n",
       "         [-0.1991,  0.4181],\n",
       "         [ 0.5393,  0.5387],\n",
       "         [ 0.4778,  0.0335],\n",
       "         [-0.2062,  0.5626],\n",
       "         [-0.4499,  0.2444],\n",
       "         [ 0.5521, -0.4526],\n",
       "         [-0.3013, -0.9712],\n",
       "         [-0.2343, -0.6458],\n",
       "         [ 0.4664, -0.1975],\n",
       "         [ 0.1737, -0.1942],\n",
       "         [-0.1071,  0.0596],\n",
       "         [-0.0229,  0.1107],\n",
       "         [ 0.1896, -0.5814],\n",
       "         [ 0.2726, -0.5119],\n",
       "         [ 0.4794,  0.3694],\n",
       "         [-0.2208,  0.1650],\n",
       "         [ 0.2884,  0.0052],\n",
       "         [-0.4615,  0.3519],\n",
       "         [ 0.4243, -0.6257],\n",
       "         [-0.7041,  0.3056],\n",
       "         [ 0.1816, -0.1309],\n",
       "         [-0.5508, -0.5764],\n",
       "         [-0.4499, -0.3661],\n",
       "         [ 0.7011, -0.2970],\n",
       "         [ 0.4877, -0.1754],\n",
       "         [ 0.6010, -0.1302],\n",
       "         [ 0.5654, -0.5547],\n",
       "         [ 0.4854,  0.0931],\n",
       "         [ 0.5830,  0.4937],\n",
       "         [-0.2920, -0.1420],\n",
       "         [-0.1639,  0.2668],\n",
       "         [ 0.2621, -0.4333],\n",
       "         [-0.3832,  0.2566],\n",
       "         [-0.3601,  0.6774],\n",
       "         [ 0.4623,  0.4602],\n",
       "         [-0.2575, -0.2065],\n",
       "         [ 0.3398,  0.3979],\n",
       "         [-0.1792, -0.2430],\n",
       "         [-0.3313, -0.3497],\n",
       "         [-0.3812,  0.1700],\n",
       "         [ 0.1449,  0.0709],\n",
       "         [ 0.3585,  0.0682],\n",
       "         [ 0.1970,  0.5563],\n",
       "         [-0.5975,  0.2488],\n",
       "         [ 0.1865,  0.0085],\n",
       "         [ 0.1400,  0.3548],\n",
       "         [ 0.3633,  0.6709],\n",
       "         [ 0.2940, -0.3663],\n",
       "         [ 0.4261,  0.5581],\n",
       "         [-0.4469,  0.3470],\n",
       "         [-0.4552, -0.4023],\n",
       "         [-0.6864,  0.5392],\n",
       "         [-0.3181, -0.3200],\n",
       "         [ 0.2928, -0.3957],\n",
       "         [-0.3855,  0.4191],\n",
       "         [-0.3609,  0.4963],\n",
       "         [-0.4701, -0.2539],\n",
       "         [ 0.5747, -0.5364],\n",
       "         [ 0.6764,  0.6524],\n",
       "         [ 0.0744,  0.6138],\n",
       "         [-0.0832, -0.1553],\n",
       "         [ 0.3939, -0.0133],\n",
       "         [-0.2290, -0.7017],\n",
       "         [ 0.4284,  0.0283],\n",
       "         [-0.4834, -0.1671],\n",
       "         [ 0.2703,  0.8211],\n",
       "         [-0.0792, -0.6429],\n",
       "         [-0.0658,  0.2195],\n",
       "         [ 0.3164, -0.4767],\n",
       "         [-0.3140,  0.1733],\n",
       "         [ 0.2609, -0.1507],\n",
       "         [-0.1926, -0.3867],\n",
       "         [-0.3314,  0.0950],\n",
       "         [-0.1717, -0.6196],\n",
       "         [-0.6721, -0.2635],\n",
       "         [-0.1371, -0.5852],\n",
       "         [-0.6033,  0.5586],\n",
       "         [-0.3373,  0.6228],\n",
       "         [-0.2170,  0.6437],\n",
       "         [ 0.6834, -0.0444],\n",
       "         [ 0.2260,  0.2471],\n",
       "         [-0.4740,  0.3997],\n",
       "         [ 0.0657,  0.1687],\n",
       "         [-0.3848, -0.3618],\n",
       "         [ 0.4939,  0.1790],\n",
       "         [ 0.2908,  0.6220],\n",
       "         [-0.4514, -0.0370],\n",
       "         [ 0.3915, -0.6911],\n",
       "         [ 0.1581, -0.2353],\n",
       "         [ 0.6661, -0.3669],\n",
       "         [-0.5560, -0.6409],\n",
       "         [-0.4850,  0.1630],\n",
       "         [-0.3028,  0.4104],\n",
       "         [ 0.3301,  0.0462]], requires_grad=True))"
      ]
     },
     "execution_count": 338,
     "metadata": {},
     "output_type": "execute_result"
    }
   ],
   "source": [
    "list(sde.mu.parameters())[0], list(sde.sigma.parameters())[0], "
   ]
  },
  {
   "cell_type": "code",
   "execution_count": 227,
   "metadata": {},
   "outputs": [
    {
     "data": {
      "text/plain": [
       "count    3.000000e+02\n",
       "mean     7.378558e+00\n",
       "std      5.239780e+01\n",
       "min      4.224438e-09\n",
       "25%      1.231473e-04\n",
       "50%      3.103486e-03\n",
       "75%      1.936082e-01\n",
       "max      7.001907e+02\n",
       "dtype: float64"
      ]
     },
     "execution_count": 227,
     "metadata": {},
     "output_type": "execute_result"
    }
   ],
   "source": [
    "pd.Series(best_st).describe()"
   ]
  },
  {
   "cell_type": "code",
   "execution_count": 193,
   "metadata": {},
   "outputs": [
    {
     "name": "stderr",
     "output_type": "stream",
     "text": [
      "100%|█████████████████████████████████████████████████████████████████████████████████████████████████████████████████| 20/20 [00:53<00:00,  2.66s/it]\n"
     ]
    }
   ],
   "source": [
    "sts = rts = np.array([])\n",
    "with torch.no_grad():\n",
    "    for i in tqdm.tqdm(range(20)):\n",
    "        y0 = torch.randn(batch_size, state_size, device=device) + 140\n",
    "        bm_ = torchsde.BrownianInterval(t0=0, t1=1, size=(batch_size, state_size), device=device)  \n",
    "        st = torchsde.sdeint(gbm, y0, ts, method='euler', bm=bm)\n",
    "        bm = torchsde.BrownianInterval(t0=0, t1=1, size=(batch_size, state_size), device=device)  \n",
    "        rt = torchsde.sdeint(sde, y0, ts, method='euler', bm=bm) # (brownian_size, batch_size, state_size)?\n",
    "        sts = np.append(sts, st[-1:, :, :][0,:,0].detach().numpy())\n",
    "        rts = np.append(rts, rt[-1:, :, :][0,:,0].detach().numpy())"
   ]
  },
  {
   "cell_type": "code",
   "execution_count": 195,
   "metadata": {},
   "outputs": [
    {
     "data": {
      "text/plain": [
       "<AxesSubplot:ylabel='Frequency'>"
      ]
     },
     "execution_count": 195,
     "metadata": {},
     "output_type": "execute_result"
    },
    {
     "data": {
      "image/png": "[encoded data removed]",
      "text/plain": [
       "<Figure size 432x288 with 1 Axes>"
      ]
     },
     "metadata": {
      "needs_background": "light"
     },
     "output_type": "display_data"
    }
   ],
   "source": [
    "pd.DataFrame(\n",
    "    {\n",
    "        \"bgm\": sts,\n",
    "        \"sde\": rts\n",
    "    }\n",
    ").plot.hist(alpha=0.7, bins=15)"
   ]
  },
  {
   "cell_type": "code",
   "execution_count": 349,
   "metadata": {
    "id": "xfmwjGPfWvul"
   },
   "outputs": [],
   "source": [
    "def price_func(s, k):\n",
    "  # s y k vectores\n",
    "  return max(s-k, 0)"
   ]
  },
  {
   "cell_type": "code",
   "execution_count": 357,
   "metadata": {},
   "outputs": [
    {
     "data": {
      "text/plain": [
       "0.025777267292141914"
      ]
     },
     "execution_count": 357,
     "metadata": {},
     "output_type": "execute_result"
    }
   ],
   "source": [
    "best_loss"
   ]
  }
 ],
 "metadata": {
  "colab": {
   "name": "neural_options.ipynb",
   "provenance": []
  },
  "kernelspec": {
   "display_name": "ancufi",
   "language": "python",
   "name": "ancufi"
  },
  "language_info": {
   "codemirror_mode": {
    "name": "ipython",
    "version": 3
   },
   "file_extension": ".py",
   "mimetype": "text/x-python",
   "name": "python",
   "nbconvert_exporter": "python",
   "pygments_lexer": "ipython3",
   "version": "3.8.10"
  }
 },
 "nbformat": 4,
 "nbformat_minor": 1
}
