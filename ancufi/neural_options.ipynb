{
 "cells": [
  {
   "cell_type": "code",
   "execution_count": 1,
   "metadata": {
    "colab": {
     "base_uri": "https://localhost:8080/"
    },
    "id": "N46EgiaRIuVy",
    "outputId": "855c6690-b626-48a2-a114-6b6b6c2755f6"
   },
   "outputs": [
    {
     "name": "stdout",
     "output_type": "stream",
     "text": [
      "Requirement already satisfied: torchsde in /home/gflan/.cache/pypoetry/virtualenvs/ancufi--w791oWn-py3.8/lib/python3.8/site-packages (0.2.5)\n",
      "Requirement already satisfied: numpy>=1.19.* in /home/gflan/.cache/pypoetry/virtualenvs/ancufi--w791oWn-py3.8/lib/python3.8/site-packages (from torchsde) (1.23.1)\n",
      "Requirement already satisfied: torch>=1.6.0 in /home/gflan/.cache/pypoetry/virtualenvs/ancufi--w791oWn-py3.8/lib/python3.8/site-packages (from torchsde) (1.12.0)\n",
      "Requirement already satisfied: trampoline>=0.1.2 in /home/gflan/.cache/pypoetry/virtualenvs/ancufi--w791oWn-py3.8/lib/python3.8/site-packages (from torchsde) (0.1.2)\n",
      "Requirement already satisfied: boltons>=20.2.1 in /home/gflan/.cache/pypoetry/virtualenvs/ancufi--w791oWn-py3.8/lib/python3.8/site-packages (from torchsde) (21.0.0)\n",
      "Requirement already satisfied: scipy>=1.5 in /home/gflan/.cache/pypoetry/virtualenvs/ancufi--w791oWn-py3.8/lib/python3.8/site-packages (from torchsde) (1.6.1)\n",
      "Requirement already satisfied: typing-extensions in /home/gflan/.cache/pypoetry/virtualenvs/ancufi--w791oWn-py3.8/lib/python3.8/site-packages (from torch>=1.6.0->torchsde) (4.3.0)\n",
      "\n",
      "\u001b[1m[\u001b[0m\u001b[34;49mnotice\u001b[0m\u001b[1;39;49m]\u001b[0m\u001b[39;49m A new release of pip available: \u001b[0m\u001b[31;49m22.1.2\u001b[0m\u001b[39;49m -> \u001b[0m\u001b[32;49m22.2.1\u001b[0m\n",
      "\u001b[1m[\u001b[0m\u001b[34;49mnotice\u001b[0m\u001b[1;39;49m]\u001b[0m\u001b[39;49m To update, run: \u001b[0m\u001b[32;49mpip install --upgrade pip\u001b[0m\n"
     ]
    }
   ],
   "source": [
    "!poetry run python -m pip install torchsde"
   ]
  },
  {
   "cell_type": "code",
   "execution_count": 2,
   "metadata": {},
   "outputs": [
    {
     "name": "stdout",
     "output_type": "stream",
     "text": [
      "pip 22.1.2 from /home/gflan/.cache/pypoetry/virtualenvs/ancufi--w791oWn-py3.8/lib/python3.8/site-packages/pip (python 3.8)\r\n"
     ]
    }
   ],
   "source": [
    "!poetry run python -m pip -V"
   ]
  },
  {
   "cell_type": "code",
   "execution_count": 3,
   "metadata": {
    "id": "bSN8wJPZIVbg"
   },
   "outputs": [],
   "source": [
    "import torch\n",
    "from torch import nn\n",
    "import torchsde\n",
    "import numpy as np\n",
    "\n",
    "import os\n",
    "import sys\n",
    "import tqdm"
   ]
  },
  {
   "cell_type": "code",
   "execution_count": 4,
   "metadata": {
    "colab": {
     "base_uri": "https://localhost:8080/"
    },
    "id": "OMBtdiaYz2rv",
    "outputId": "b9090f12-6122-42eb-a079-54fc2e1bdc86"
   },
   "outputs": [],
   "source": [
    "is_cuda = torch.cuda.is_available()\n",
    "# is_cuda = False\n",
    "device = 'cuda' if is_cuda else 'cpu'\n",
    "if not is_cuda:\n",
    "    print(\"Warning: CUDA not available; falling back to CPU but this is likely to be very slow.\")"
   ]
  },
  {
   "cell_type": "markdown",
   "metadata": {
    "id": "XfLIz21JVll3"
   },
   "source": [
    "Nuestro modelo, drift y difussion son redes neuronales que vamos a entrenar."
   ]
  },
  {
   "cell_type": "code",
   "execution_count": 5,
   "metadata": {},
   "outputs": [],
   "source": [
    "class MLP(torch.nn.Module):\n",
    "    def __init__(self, in_size, out_size, mlp_size, num_layers, tanh):\n",
    "        super().__init__()        \n",
    "        \n",
    "        activation = lambda : torch.nn.Tanh() if tanh else torch.nn.LeakyReLU(0.01) \n",
    "        model = [\n",
    "            torch.nn.Linear(in_size, mlp_size),\n",
    "            activation()\n",
    "        ]\n",
    "        for _ in range(num_layers - 1):\n",
    "            model.append(torch.nn.Linear(mlp_size, mlp_size))\n",
    "            model.append(activation())\n",
    "        model.append(torch.nn.Linear(mlp_size, out_size))\n",
    "\n",
    "        self._model = torch.nn.Sequential(*model)\n",
    "\n",
    "    def forward(self, x):\n",
    "        return self._model(x)"
   ]
  },
  {
   "cell_type": "code",
   "execution_count": 22,
   "metadata": {
    "id": "5_03s6FWIzLP"
   },
   "outputs": [],
   "source": [
    "class SDE(torch.nn.Module):\n",
    "    noise_type = 'diagonal'\n",
    "    sde_type = 'ito'\n",
    "\n",
    "    def __init__(self, state_size=1, batch_size=32, mlp_size=100, num_layers=3, tanh=False):\n",
    "        super().__init__()\n",
    "        \n",
    "        in_size = 2 * state_size # S(t) y t\n",
    "        out_size = state_size # drift o difusion final\n",
    "        mu_sigma_args = dict(\n",
    "            in_size=in_size,\n",
    "            out_size=out_size,\n",
    "            mlp_size=mlp_size, \n",
    "            num_layers=num_layers,\n",
    "            tanh=tanh\n",
    "        )\n",
    "        self.mu = MLP(**mu_sigma_args)\n",
    "        self.sigma = MLP(**mu_sigma_args)\n",
    "\n",
    "    # Drift\n",
    "    def f(self, t, y):\n",
    "        # forward prop de la f\n",
    "        # armar un tensor de batch_size componentes con el tiempo t\n",
    "        batch_t = torch.full((batch_size,1), t.item()).to(device)\n",
    "        # mu([\n",
    "        #     (y_0, t), \n",
    "        #     (y_1, t),\n",
    "        #     .. \n",
    "        #     (y_n, t) <--- n = batch_size\n",
    "        # ]) \n",
    "        return self.mu(torch.cat((y, batch_t), dim=1))  # shape (batch_size, state_size)\n",
    "\n",
    "    # Diffusion\n",
    "    def g(self, t, y):\n",
    "        # idem mu\n",
    "        batch_t = torch.full((batch_size,1), t.item()).to(device)\n",
    "        return self.sigma(torch.cat((y, batch_t), dim=1))\n",
    "\n",
    "# sde = SDE().to(device)"
   ]
  },
  {
   "cell_type": "markdown",
   "metadata": {
    "id": "tg9PLTdcTjoZ"
   },
   "source": [
    "Browniano Geométrico como benchmark conocido"
   ]
  },
  {
   "cell_type": "code",
   "execution_count": 20,
   "metadata": {
    "id": "TbdcynUYHGkQ"
   },
   "outputs": [],
   "source": [
    "class BGM_SDE(nn.Module):\n",
    "\n",
    "    def __init__(self, mu, sigma):\n",
    "        super().__init__()\n",
    "        self.noise_type=\"diagonal\"\n",
    "        self.sde_type = \"ito\"\n",
    "\n",
    "        self.mu = mu\n",
    "        self.sigma = sigma\n",
    "\n",
    "    def f(self, t, y):\n",
    "        return self.mu * y\n",
    "\n",
    "    def g(self, t, y):\n",
    "        return self.sigma * y"
   ]
  },
  {
   "cell_type": "markdown",
   "metadata": {
    "id": "-ZeAy7nETak6"
   },
   "source": [
    "## Earth Mover's Distance"
   ]
  },
  {
   "cell_type": "code",
   "execution_count": 35,
   "metadata": {
    "id": "-1a-pHa-OgZR"
   },
   "outputs": [],
   "source": [
    "def emd(p, q, qtiles=11):\n",
    "    quantiles = torch.linspace(0, 1, steps=qtiles) \n",
    "    # tensor([0.0000, 0.1000, 0.2000, 0.3000, 0.4000, 0.5000, 0.6000, 0.7000, 0.8000, 0.9000, 1.0000])\n",
    "    quantiles = torch.linspace(0, 1, steps=steps, device=device) \n",
    "    p_q = torch.quantile(p, quantiles, dim=1, keepdim=True)\n",
    "    q_q = torch.quantile(q, quantiles, dim=1, keepdim=True)\n",
    "\n",
    "    # sumo todas las diferencias quartil a quartil \n",
    "    return torch.abs(p_q - q_q).sum(dim=0).div(qtiles)"
   ]
  },
  {
   "cell_type": "code",
   "execution_count": 36,
   "metadata": {
    "colab": {
     "base_uri": "https://localhost:8080/"
    },
    "id": "V906VPN3fdLl",
    "outputId": "cddb24a7-d9ea-4943-adf8-24b41f88361f"
   },
   "outputs": [
    {
     "name": "stdout",
     "output_type": "stream",
     "text": [
      "torch.Size([5, 300, 1])\n"
     ]
    },
    {
     "ename": "RuntimeError",
     "evalue": "quantile() q tensor must be on the same device as the input tensor",
     "output_type": "error",
     "traceback": [
      "\u001b[0;31m---------------------------------------------------------------------------\u001b[0m",
      "\u001b[0;31mRuntimeError\u001b[0m                              Traceback (most recent call last)",
      "Input \u001b[0;32mIn [36]\u001b[0m, in \u001b[0;36m<cell line: 7>\u001b[0;34m()\u001b[0m\n\u001b[1;32m      4\u001b[0m q \u001b[38;5;241m=\u001b[39m torch\u001b[38;5;241m.\u001b[39mnormal(mean\u001b[38;5;241m=\u001b[39m\u001b[38;5;241m0\u001b[39m, std\u001b[38;5;241m=\u001b[39m\u001b[38;5;241m1\u001b[39m, size\u001b[38;5;241m=\u001b[39m(\u001b[38;5;241m5\u001b[39m,\u001b[38;5;241m300\u001b[39m,\u001b[38;5;241m1\u001b[39m), requires_grad\u001b[38;5;241m=\u001b[39m\u001b[38;5;28;01mTrue\u001b[39;00m)\n\u001b[1;32m      5\u001b[0m \u001b[38;5;28mprint\u001b[39m(p\u001b[38;5;241m.\u001b[39mshape) \u001b[38;5;66;03m# (cantidad de instantes, tamaño del batch, cantidad de 'estados')\u001b[39;00m\n\u001b[0;32m----> 7\u001b[0m res \u001b[38;5;241m=\u001b[39m \u001b[43memd\u001b[49m\u001b[43m(\u001b[49m\u001b[43mp\u001b[49m\u001b[43m,\u001b[49m\u001b[43m \u001b[49m\u001b[43mq\u001b[49m\u001b[43m,\u001b[49m\u001b[43m \u001b[49m\u001b[43mqtiles\u001b[49m\u001b[38;5;241;43m=\u001b[39;49m\u001b[38;5;241;43m51\u001b[39;49m\u001b[43m)\u001b[49m\n\u001b[1;32m      8\u001b[0m \u001b[38;5;28mprint\u001b[39m(res[:, \u001b[38;5;241m0\u001b[39m, \u001b[38;5;241m0\u001b[39m], res\u001b[38;5;241m.\u001b[39mmean())\n\u001b[1;32m      9\u001b[0m \u001b[38;5;28;01mdel\u001b[39;00m res, p, q\n",
      "Input \u001b[0;32mIn [35]\u001b[0m, in \u001b[0;36memd\u001b[0;34m(p, q, qtiles)\u001b[0m\n\u001b[1;32m      3\u001b[0m \u001b[38;5;66;03m# tensor([0.0000, 0.1000, 0.2000, 0.3000, 0.4000, 0.5000, 0.6000, 0.7000, 0.8000, 0.9000, 1.0000])\u001b[39;00m\n\u001b[1;32m      4\u001b[0m quantiles \u001b[38;5;241m=\u001b[39m torch\u001b[38;5;241m.\u001b[39mlinspace(\u001b[38;5;241m0\u001b[39m, \u001b[38;5;241m1\u001b[39m, steps\u001b[38;5;241m=\u001b[39msteps, device\u001b[38;5;241m=\u001b[39mdevice) \n\u001b[0;32m----> 5\u001b[0m p_q \u001b[38;5;241m=\u001b[39m \u001b[43mtorch\u001b[49m\u001b[38;5;241;43m.\u001b[39;49m\u001b[43mquantile\u001b[49m\u001b[43m(\u001b[49m\u001b[43mp\u001b[49m\u001b[43m,\u001b[49m\u001b[43m \u001b[49m\u001b[43mquantiles\u001b[49m\u001b[43m,\u001b[49m\u001b[43m \u001b[49m\u001b[43mdim\u001b[49m\u001b[38;5;241;43m=\u001b[39;49m\u001b[38;5;241;43m1\u001b[39;49m\u001b[43m,\u001b[49m\u001b[43m \u001b[49m\u001b[43mkeepdim\u001b[49m\u001b[38;5;241;43m=\u001b[39;49m\u001b[38;5;28;43;01mTrue\u001b[39;49;00m\u001b[43m)\u001b[49m\n\u001b[1;32m      6\u001b[0m q_q \u001b[38;5;241m=\u001b[39m torch\u001b[38;5;241m.\u001b[39mquantile(q, quantiles, dim\u001b[38;5;241m=\u001b[39m\u001b[38;5;241m1\u001b[39m, keepdim\u001b[38;5;241m=\u001b[39m\u001b[38;5;28;01mTrue\u001b[39;00m)\n\u001b[1;32m      8\u001b[0m \u001b[38;5;66;03m# sumo todas las diferencias quartil a quartil \u001b[39;00m\n",
      "\u001b[0;31mRuntimeError\u001b[0m: quantile() q tensor must be on the same device as the input tensor"
     ]
    }
   ],
   "source": [
    "# Dos normales con misma varianza y un shift de una unidad de media, emd ~= 1 \n",
    "\n",
    "p = torch.normal(mean=1, std=1, size=(5,300,1), requires_grad=True)\n",
    "q = torch.normal(mean=0, std=1, size=(5,300,1), requires_grad=True)\n",
    "print(p.shape) # (cantidad de instantes, tamaño del batch, cantidad de 'estados')\n",
    "\n",
    "res = emd(p, q, qtiles=51)\n",
    "print(res[:, 0, 0], res.mean())\n",
    "del res, p, q"
   ]
  },
  {
   "cell_type": "markdown",
   "metadata": {
    "id": "WWQCMiRMZBvC"
   },
   "source": [
    "### TorchSDE"
   ]
  },
  {
   "cell_type": "code",
   "execution_count": 23,
   "metadata": {
    "id": "-3qaiVpPJD2v"
   },
   "outputs": [
    {
     "data": {
      "text/plain": [
       "tensor([[[3.0000],\n",
       "         [3.0000],\n",
       "         [3.0000],\n",
       "         [3.0000],\n",
       "         [3.0000],\n",
       "         [3.0000],\n",
       "         [3.0000],\n",
       "         [3.0000],\n",
       "         [3.0000],\n",
       "         [3.0000]],\n",
       "\n",
       "        [[3.0300],\n",
       "         [2.9882],\n",
       "         [3.0481],\n",
       "         [3.0235],\n",
       "         [3.0400],\n",
       "         [3.0191],\n",
       "         [2.9568],\n",
       "         [3.0356],\n",
       "         [3.0122],\n",
       "         [3.0251]],\n",
       "\n",
       "        [[3.0885],\n",
       "         [2.9889],\n",
       "         [3.0614],\n",
       "         [3.0982],\n",
       "         [3.0607],\n",
       "         [3.1002],\n",
       "         [3.0153],\n",
       "         [3.0802],\n",
       "         [3.0499],\n",
       "         [3.0695]]], device='cuda:0')"
      ]
     },
     "execution_count": 23,
     "metadata": {},
     "output_type": "execute_result"
    }
   ],
   "source": [
    "# y0 dimension (batch_size, state_size) da el valor inicial de la SDE en tiempo ts[0]\n",
    "brownian_size, batch_size, state_size,  = 3, 200, 1\n",
    "y0 = torch.full((batch_size, state_size), 3, device=device)\n",
    "ts = torch.linspace(0, 1, brownian_size)\n",
    "\n",
    "sde = SDE(state_size=state_size, batch_size=batch_size, mlp_size=100, num_layers=3, tanh=False).to(device)\n",
    "bgm = BGM_SDE(mu=.25, sigma=.01).to(device)\n",
    "\n",
    "bm = torchsde.BrownianInterval(t0=0, t1=1, size=(batch_size, state_size), device=device)\n",
    "\n",
    "with torch.no_grad():\n",
    "    # Initial state y0, the SDE is solved over the interval [ts[0], ts[-1]].\n",
    "    # ys will have shape (t_size, batch_size, state_size)\n",
    "    ys = torchsde.sdeint(sde, y0, ts, method=\"euler\", bm=bm)        \n",
    "    ys_bgm = torchsde.sdeint(bgm, y0, ts, method=\"euler\", bm=bm)    \n",
    "ys[:, :10, :]"
   ]
  },
  {
   "cell_type": "code",
   "execution_count": 28,
   "metadata": {
    "scrolled": true
   },
   "outputs": [
    {
     "name": "stdout",
     "output_type": "stream",
     "text": [
      "torch.Size([3, 200, 1])\n"
     ]
    },
    {
     "data": {
      "text/plain": [
       "tensor([[[0.0000]],\n",
       "\n",
       "        [[0.3750]],\n",
       "\n",
       "        [[0.7987]]], device='cuda:0')"
      ]
     },
     "execution_count": 28,
     "metadata": {},
     "output_type": "execute_result"
    }
   ],
   "source": [
    "print(ys.shape) # (brownian_size, batch_size, state_size)\n",
    "\n",
    "distance = emd(ys_bgm, ys, steps=51)\n",
    "distance"
   ]
  },
  {
   "cell_type": "code",
   "execution_count": 30,
   "metadata": {},
   "outputs": [
    {
     "name": "stderr",
     "output_type": "stream",
     "text": [
      "Matplotlib is building the font cache; this may take a moment.\n"
     ]
    },
    {
     "data": {
      "text/plain": [
       "<AxesSubplot:ylabel='Frequency'>"
      ]
     },
     "execution_count": 30,
     "metadata": {},
     "output_type": "execute_result"
    },
    {
     "data": {
      "image/png": "[encoded data removed]",
      "text/plain": [
       "<Figure size 432x288 with 1 Axes>"
      ]
     },
     "metadata": {
      "needs_background": "light"
     },
     "output_type": "display_data"
    }
   ],
   "source": [
    "import pandas as pd\n",
    "pd.DataFrame(\n",
    "    {\n",
    "        \"bgm\": ys_bgm[-1,:,0].cpu().numpy(),\n",
    "        \"sde\": ys[-1,:,0].cpu().numpy()\n",
    "    }\n",
    ").plot.hist(alpha=0.7, bins=25)"
   ]
  },
  {
   "cell_type": "code",
   "execution_count": 184,
   "metadata": {},
   "outputs": [],
   "source": [
    "torchsde.sdeint?"
   ]
  },
  {
   "cell_type": "code",
   "execution_count": 53,
   "metadata": {},
   "outputs": [
    {
     "name": "stdout",
     "output_type": "stream",
     "text": [
      "Starting from zero!\n"
     ]
    }
   ],
   "source": [
    "# cargar estados anteriores para iterar por partes\n",
    "try:\n",
    "    sde.load_state_dict(torch.load(\"./state\"))\n",
    "    best_st = pd.read_csv(\"best_st.csv\", index_col=[0]).iloc[:,0].values.tolist()\n",
    "    best_rt = pd.read_csv(\"best_rt.csv\", index_col=[0]).iloc[:,0].values.tolist()\n",
    "    losses = pd.read_csv(\"losses.csv\", index_col=[0]).iloc[:,0].values.tolist()\n",
    "    best_loss = min(losses)\n",
    "except: \n",
    "    print(\"Starting from zero!\")\n",
    "    losses = []\n",
    "    best_st = best_rt =  None \n",
    "    best_loss = np.inf"
   ]
  },
  {
   "cell_type": "code",
   "execution_count": 54,
   "metadata": {
    "colab": {
     "base_uri": "https://localhost:8080/",
     "height": 131
    },
    "id": "WXyL7_rHzFEp",
    "outputId": "1267141f-d850-45c6-d003-b0af657e08ef"
   },
   "outputs": [
    {
     "name": "stderr",
     "output_type": "stream",
     "text": [
      "100%|██████████████████████████████████████████████████████████████████████████| 300/300 [12:23<00:00,  2.48s/it]\n"
     ]
    }
   ],
   "source": [
    "steps = 300\n",
    "ts = torch.linspace(0, 1, 11)\n",
    "batch_size = 200\n",
    "\n",
    "a, b = .25, .01 # µ y σ del BGM\n",
    "sde = SDE(state_size=state_size, batch_size=batch_size, mlp_size=100, num_layers=1, tanh=False).to(device)\n",
    "gbm = BGM_SDE(mu=a, sigma=b).to(device)\n",
    "opt = torch.optim.Adam(sde.parameters(), lr=0.1)\n",
    "\n",
    "y0 = torch.full((batch_size, state_size), 3, device=device)\n",
    "trange = tqdm.tqdm(range(steps))\n",
    "for step in trange:\n",
    "    # Nuevo batch, grad en 0\n",
    "    opt.zero_grad()\n",
    "    \n",
    "    # generar traza del GBM\n",
    "    bm = torchsde.BrownianInterval(t0=0, t1=1, size=(batch_size, state_size), device=device)  \n",
    "    st = torchsde.sdeint(gbm, y0, ts, method='euler', bm=bm)\n",
    "    \n",
    "    # generar traza de nuestra SDE\n",
    "    bm = torchsde.BrownianInterval(t0=0, t1=1, size=(batch_size, state_size), device=device)  \n",
    "    rt = torchsde.sdeint(sde, y0, ts, method='euler', bm=bm) # (brownian_size, batch_size, state_size)?\n",
    "\n",
    "    # media de EMD entre todos los instantes de las trazas\n",
    "    wasserstein_loss = emd(st, rt, qtiles=51).mean()\n",
    "    \n",
    "    # guardar el ultimo instante del mejor entrenamiento\n",
    "    if best_loss > wasserstein_loss.item():\n",
    "        best_st = st[-1,:,0].cpu().detach().numpy() \n",
    "        best_rt = rt[-1,:,0].cpu().detach().numpy()\n",
    "        best_loss = wasserstein_loss.item()\n",
    "    \n",
    "    losses.append(wasserstein_loss.item())\n",
    "    # Computar grad\n",
    "    wasserstein_loss.backward()\n",
    "    # Optimizar sobre el batch\n",
    "    opt.step()\n"
   ]
  },
  {
   "cell_type": "code",
   "execution_count": 56,
   "metadata": {},
   "outputs": [
    {
     "data": {
      "text/plain": [
       "<AxesSubplot:>"
      ]
     },
     "execution_count": 56,
     "metadata": {},
     "output_type": "execute_result"
    },
    {
     "data": {
      "image/png": "[encoded data removed]",
      "text/plain": [
       "<Figure size 432x288 with 1 Axes>"
      ]
     },
     "metadata": {
      "needs_background": "light"
     },
     "output_type": "display_data"
    }
   ],
   "source": [
    "pd.Series(losses).plot()"
   ]
  },
  {
   "cell_type": "code",
   "execution_count": 72,
   "metadata": {},
   "outputs": [],
   "source": [
    "torch.save(sde.state_dict(), \"./state\")\n",
    "pd.Series(best_st).to_csv(\"best_st.csv\")\n",
    "pd.Series(best_rt).to_csv(\"best_rt.csv\")\n",
    "pd.Series(losses).to_csv(\"losses.csv\")"
   ]
  },
  {
   "cell_type": "code",
   "execution_count": 70,
   "metadata": {},
   "outputs": [
    {
     "data": {
      "text/plain": [
       "<AxesSubplot:>"
      ]
     },
     "execution_count": 70,
     "metadata": {},
     "output_type": "execute_result"
    },
    {
     "data": {
      "image/png": "[encoded data removed]",
      "text/plain": [
       "<Figure size 432x288 with 1 Axes>"
      ]
     },
     "metadata": {
      "needs_background": "light"
     },
     "output_type": "display_data"
    }
   ],
   "source": [
    "pd.Series(losses).rolling(20).mean().plot()"
   ]
  },
  {
   "cell_type": "code",
   "execution_count": 59,
   "metadata": {},
   "outputs": [
    {
     "data": {
      "text/plain": [
       "0.04293559119105339"
      ]
     },
     "execution_count": 59,
     "metadata": {},
     "output_type": "execute_result"
    }
   ],
   "source": [
    "best_loss"
   ]
  },
  {
   "cell_type": "code",
   "execution_count": 64,
   "metadata": {},
   "outputs": [
    {
     "data": {
      "text/plain": [
       "<AxesSubplot:ylabel='Frequency'>"
      ]
     },
     "execution_count": 64,
     "metadata": {},
     "output_type": "execute_result"
    },
    {
     "data": {
      "image/png": "[encoded data removed]",
      "text/plain": [
       "<Figure size 432x288 with 1 Axes>"
      ]
     },
     "metadata": {
      "needs_background": "light"
     },
     "output_type": "display_data"
    }
   ],
   "source": [
    "pd.DataFrame(\n",
    "    {\n",
    "        \"bgm\": best_st,\n",
    "        \"sde\": best_rt\n",
    "    }\n",
    ").plot.hist(alpha=0.6, bins=60)"
   ]
  },
  {
   "cell_type": "code",
   "execution_count": 368,
   "metadata": {},
   "outputs": [
    {
     "data": {
      "text/plain": [
       "count       200.000000\n",
       "mean      13455.070312\n",
       "std       30117.035156\n",
       "min           3.530167\n",
       "25%         951.140167\n",
       "50%        3019.674072\n",
       "75%       10720.533203\n",
       "max      222529.781250\n",
       "dtype: float64"
      ]
     },
     "execution_count": 368,
     "metadata": {},
     "output_type": "execute_result"
    }
   ],
   "source": [
    "pd.Series(best_st).describe()"
   ]
  },
  {
   "cell_type": "code",
   "execution_count": 257,
   "metadata": {},
   "outputs": [],
   "source": [
    "sde.f = lambda x,y: 0*x*y"
   ]
  },
  {
   "cell_type": "code",
   "execution_count": 68,
   "metadata": {},
   "outputs": [
    {
     "name": "stderr",
     "output_type": "stream",
     "text": [
      "100%|████████████████████████████████████████████████████████████████████████████| 20/20 [00:38<00:00,  1.95s/it]\n"
     ]
    }
   ],
   "source": [
    "sts = rts = np.array([])\n",
    "with torch.no_grad():\n",
    "    for i in tqdm.tqdm(range(20)):\n",
    "        y0 = torch.full((batch_size, state_size), 3, device=device)\n",
    "        bm_ = torchsde.BrownianInterval(t0=0, t1=1, size=(batch_size, state_size), device=device)  \n",
    "        st = torchsde.sdeint(gbm, y0, ts, method='euler', bm=bm)\n",
    "        bm = torchsde.BrownianInterval(t0=0, t1=1, size=(batch_size, state_size), device=device)  \n",
    "        rt = torchsde.sdeint(sde, y0, ts, method='euler', bm=bm) # (brownian_size, batch_size, state_size)?\n",
    "        sts = np.append(sts, st[-1:, :, :][0,:,0].cpu().detach().numpy())\n",
    "        rts = np.append(rts, rt[-1:, :, :][0,:,0].cpu().detach().numpy())"
   ]
  },
  {
   "cell_type": "code",
   "execution_count": 71,
   "metadata": {},
   "outputs": [
    {
     "data": {
      "text/plain": [
       "<AxesSubplot:ylabel='Frequency'>"
      ]
     },
     "execution_count": 71,
     "metadata": {},
     "output_type": "execute_result"
    },
    {
     "data": {
      "image/png": "[encoded data removed]",
      "text/plain": [
       "<Figure size 432x288 with 1 Axes>"
      ]
     },
     "metadata": {
      "needs_background": "light"
     },
     "output_type": "display_data"
    }
   ],
   "source": [
    "pd.DataFrame(\n",
    "    {\n",
    "        \"bgm\": sts,\n",
    "        \"sde\": rts\n",
    "    }\n",
    ").plot.hist(alpha=0.7, bins=50)"
   ]
  },
  {
   "cell_type": "code",
   "execution_count": 349,
   "metadata": {
    "id": "xfmwjGPfWvul"
   },
   "outputs": [],
   "source": [
    "def price_func(s, k):\n",
    "  # s y k vectores\n",
    "  return max(s-k, 0)"
   ]
  }
 ],
 "metadata": {
  "colab": {
   "name": "neural_options.ipynb",
   "provenance": []
  },
  "kernelspec": {
   "display_name": "ancufi",
   "language": "python",
   "name": "ancufi"
  },
  "language_info": {
   "codemirror_mode": {
    "name": "ipython",
    "version": 3
   },
   "file_extension": ".py",
   "mimetype": "text/x-python",
   "name": "python",
   "nbconvert_exporter": "python",
   "pygments_lexer": "ipython3",
   "version": "3.8.0"
  }
 },
 "nbformat": 4,
 "nbformat_minor": 1
}
